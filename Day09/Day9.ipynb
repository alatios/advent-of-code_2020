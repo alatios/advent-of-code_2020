{
 "cells": [
  {
   "cell_type": "code",
   "execution_count": 1,
   "metadata": {},
   "outputs": [],
   "source": [
    "import numpy as np"
   ]
  },
  {
   "cell_type": "markdown",
   "metadata": {},
   "source": [
    "## READ THE DATA"
   ]
  },
  {
   "cell_type": "code",
   "execution_count": 2,
   "metadata": {},
   "outputs": [],
   "source": [
    "filename='input.txt'\n",
    "preamble = 25\n",
    "numbersArray = np.loadtxt(filename)"
   ]
  },
  {
   "cell_type": "markdown",
   "metadata": {},
   "source": [
    "## PART 1"
   ]
  },
  {
   "cell_type": "code",
   "execution_count": 3,
   "metadata": {},
   "outputs": [],
   "source": [
    "def CheckIfValid(array, preambleSize, indexToCheck):\n",
    "    for i in range(indexToCheck - preambleSize, indexToCheck):\n",
    "        for j in range(i+1, indexToCheck):\n",
    "            if array[indexToCheck] == array[i] + array[j]:\n",
    "                return True\n",
    "    return False"
   ]
  },
  {
   "cell_type": "code",
   "execution_count": 4,
   "metadata": {},
   "outputs": [
    {
     "name": "stdout",
     "output_type": "stream",
     "text": [
      "Number 23278925.0 is not valid.\n"
     ]
    }
   ],
   "source": [
    "for indexToCheck in range(preamble, len(numbersArray)):\n",
    "    if not CheckIfValid(numbersArray, preamble, indexToCheck):\n",
    "        print(\"Number\", numbersArray[indexToCheck], \"is not valid.\")"
   ]
  },
  {
   "cell_type": "markdown",
   "metadata": {},
   "source": [
    "## PART 2"
   ]
  },
  {
   "cell_type": "code",
   "execution_count": 5,
   "metadata": {},
   "outputs": [
    {
     "name": "stdout",
     "output_type": "stream",
     "text": [
      "Found the following series of indexes summing to 23278925.0 :\n",
      "[400, 401, 402, 403, 404, 405, 406, 407, 408, 409, 410, 411, 412, 413, 414, 415, 416]\n",
      "\n",
      "\n",
      "The corresponding numbers are:\n",
      "[865846.0, 920316.0, 975234.0, 934803.0, 1683508.0, 961814.0, 1072768.0, 1291799.0, 1108823.0, 1295819.0, 1461710.0, 1669021.0, 1467432.0, 1472332.0, 3145218.0, 1475958.0, 1476524.0]\n",
      "\n",
      "\n",
      "The encryption weakness is 4011064.0\n"
     ]
    }
   ],
   "source": [
    "numberToFind = 23278925.0\n",
    "#numberToFind = 127.0\n",
    "\n",
    "cumulativeIndexList = []\n",
    "solved = False\n",
    "\n",
    "for i in range(len(numbersArray)):\n",
    "    if numbersArray[i] == numberToFind:\n",
    "        continue\n",
    "    cumulativeCounter = numbersArray[i]\n",
    "    cumulativeIndexList = [i]\n",
    "    \n",
    "    for j in range(i+1, len(numbersArray)):\n",
    "        if numbersArray[j] == numberToFind:\n",
    "            break\n",
    "        cumulativeCounter += numbersArray[j]\n",
    "        cumulativeIndexList.append(j)\n",
    "        \n",
    "        if cumulativeCounter == numberToFind:\n",
    "            solved = True\n",
    "            break\n",
    "        elif cumulativeCounter > numberToFind:\n",
    "            break\n",
    "    \n",
    "    if solved:\n",
    "        break\n",
    "\n",
    "if not solved:\n",
    "    print (\"Didn't find a contiguous series summing to\", numbertoFind)\n",
    "else:\n",
    "    contiguousNumberList = list(numbersArray[i] for i in cumulativeIndexList)\n",
    "    print(\"Found the following series of indexes summing to\", numberToFind,\":\")\n",
    "    print(cumulativeIndexList)\n",
    "    print('\\n')\n",
    "    print(\"The corresponding numbers are:\")\n",
    "    print(contiguousNumberList)\n",
    "    print('\\n')\n",
    "    print(\"The encryption weakness is\", np.amin(contiguousNumberList) +  np.amax(contiguousNumberList))"
   ]
  },
  {
   "cell_type": "code",
   "execution_count": null,
   "metadata": {},
   "outputs": [],
   "source": []
  }
 ],
 "metadata": {
  "kernelspec": {
   "display_name": "Python 3",
   "language": "python",
   "name": "python3"
  },
  "language_info": {
   "codemirror_mode": {
    "name": "ipython",
    "version": 3
   },
   "file_extension": ".py",
   "mimetype": "text/x-python",
   "name": "python",
   "nbconvert_exporter": "python",
   "pygments_lexer": "ipython3",
   "version": "3.8.5"
  }
 },
 "nbformat": 4,
 "nbformat_minor": 4
}
