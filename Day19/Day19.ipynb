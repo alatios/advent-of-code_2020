{
 "cells": [
  {
   "cell_type": "code",
   "execution_count": 1,
   "metadata": {},
   "outputs": [],
   "source": [
    "import numpy as np\n",
    "import pandas as pd\n",
    "import time"
   ]
  },
  {
   "cell_type": "markdown",
   "metadata": {},
   "source": [
    "## READ THE DATA"
   ]
  },
  {
   "cell_type": "code",
   "execution_count": 2,
   "metadata": {},
   "outputs": [],
   "source": [
    "def SplitFile(fileLines):\n",
    "    g = []\n",
    "    for line in fileLines:\n",
    "        if line == '':\n",
    "            yield g\n",
    "            g = []\n",
    "        else:\n",
    "            g.append(line)\n",
    "    yield g"
   ]
  },
  {
   "cell_type": "code",
   "execution_count": 3,
   "metadata": {},
   "outputs": [],
   "source": [
    "fileName = 'input.txt'\n",
    "fileLines = open(fileName).read().splitlines()\n",
    "rules, messages = list(SplitFile(fileLines))"
   ]
  },
  {
   "cell_type": "markdown",
   "metadata": {},
   "source": [
    "## PART 1"
   ]
  },
  {
   "cell_type": "code",
   "execution_count": 4,
   "metadata": {},
   "outputs": [],
   "source": [
    "indexToRuleDictionary = {}\n",
    "\n",
    "for rule in rules:\n",
    "    ruleIndex, ruleCondition = rule.split(\": \")\n",
    "    indexToRuleDictionary[int(ruleIndex)] = ruleCondition"
   ]
  },
  {
   "cell_type": "code",
   "execution_count": 5,
   "metadata": {},
   "outputs": [],
   "source": [
    "def AppendToRuleDictionary(dictionary, key, element):\n",
    "    if key in dictionary:\n",
    "        dictionary[key].append(element)\n",
    "    else:\n",
    "        dictionary[key] = element"
   ]
  },
  {
   "cell_type": "code",
   "execution_count": 6,
   "metadata": {},
   "outputs": [],
   "source": [
    "## This one decodes any rule\n",
    "def DecodeRule(indexToRuleDictionary, processedRuleDictionary, ruleString):\n",
    "    ## Get index of pipe, or -1 if there is none\n",
    "    splitIndex = next((index for index, element in enumerate(ruleString) if element == '|'), -1)\n",
    "    \n",
    "    ## Case 1: rule is a single character (\"a\", or \"b\")\n",
    "    if ((splitIndex == -1) and (ruleString[0] == '\"')):\n",
    "        return [ruleString[1:-1]]\n",
    "    \n",
    "    ## Case 2: rule is an index or a series of indexes with no pipes ('4 1 5', '3')\n",
    "    if ((splitIndex == -1) and (ruleString[0] != '\"')):\n",
    "        ruleList = [int(element) for element in ruleString.split(' ')]\n",
    "        decodedRuleList = ['']\n",
    "        for ruleIndex in ruleList:\n",
    "            newDecodedRuleList = DecodeRuleByIndex(indexToRuleDictionary, processedRuleDictionary, ruleIndex)\n",
    "            decodedRuleList = [str(before) + str(after) for before in decodedRuleList for after in newDecodedRuleList]\n",
    "        return decodedRuleList\n",
    "    \n",
    "    ## Case 3: rule is two series of indexes split by a pipe ('4 5 | 5 4')\n",
    "    leftRule = ruleString[:splitIndex-1]\n",
    "    rightRule = ruleString[splitIndex+2:]\n",
    "    lstLeft = DecodeRule(indexToRuleDictionary, processedRuleDictionary, leftRule)\n",
    "    lstRight = DecodeRule(indexToRuleDictionary, processedRuleDictionary, rightRule)\n",
    "    return lstLeft + lstRight\n",
    "\n",
    "## This one decodes any indexed rule, updating the processed rule dictionary\n",
    "def DecodeRuleByIndex(indexToRuleDictionary, processedRuleDictionary, indexToDecode):\n",
    "    if indexToDecode in processedRuleDictionary:\n",
    "        return processedRuleDictionary[indexToDecode]\n",
    "    \n",
    "    ruleString = indexToRuleDictionary[indexToDecode]\n",
    "    decodedRule = DecodeRule(indexToRuleDictionary, processedRuleDictionary, ruleString)\n",
    "    AppendToRuleDictionary(processedRuleDictionary, indexToDecode, decodedRule)\n",
    "    return decodedRule"
   ]
  },
  {
   "cell_type": "code",
   "execution_count": 7,
   "metadata": {},
   "outputs": [
    {
     "name": "stdout",
     "output_type": "stream",
     "text": [
      "Number of messages that match rule 0: 104\n",
      "Total found in 10.9112 seconds.\n"
     ]
    }
   ],
   "source": [
    "dicProcess = {}\n",
    "tic = time.perf_counter()\n",
    "DecodeRuleByIndex(indexToRuleDictionary, dicProcess, 0)\n",
    "matchCounter = sum([True for message in messages if message in dicProcess[0]])\n",
    "toc = time.perf_counter()\n",
    "        \n",
    "print('Number of messages that match rule 0:', matchCounter)\n",
    "print(f\"Total found in {toc - tic:0.4f} seconds.\")"
   ]
  },
  {
   "cell_type": "markdown",
   "metadata": {},
   "source": [
    "## PART 2\n",
    "Clearly the Part 2 instructions heavily punished my tactic of generating all the matchable messages: even if I limited the generation to the maximum length of the input messages, generating all possible combinations matching rule 8 alone would take ages.\n",
    "\n",
    "Therefore I opted for an alternative approach: essentially, every rule boils down to a sequence of two possible rules (the one for \"a\" and the one for \"b\"). I should simply be able follow the recursion down to its fundamental blocks... except there are those damn looping rules.\n",
    "\n",
    "*But!!* We don't actually have to follow the recursion all the way down. Suppose we have something like \"4, 5, 1\". In the test input for Part 2, rule 4 requires a message beginning with a sub-message matching rule 1, which in turn is just the \"a\" rule. If the message I'm checking begins with a *b*, all the recursion in the world will never be able to produce the message since the first character is wrong. If it *isn't* wrong, I can strip it from the message, remove the first rule 1 instance and retry. Either I come to an empty message with no rules left to apply (the message could be generated with the starting rules) or I don't (the message could not be generated). Pipes just mean more forks, no big deal."
   ]
  },
  {
   "cell_type": "code",
   "execution_count": 8,
   "metadata": {},
   "outputs": [],
   "source": [
    "indexToRuleDictionary[8] = '42 | 42 8'\n",
    "indexToRuleDictionary[11] = '42 31 | 42 11 31'"
   ]
  },
  {
   "cell_type": "code",
   "execution_count": 9,
   "metadata": {},
   "outputs": [],
   "source": [
    "def RuleStringToList(ruleString):\n",
    "    splitIndex = next((index for index, element in enumerate(ruleString) if element == '|'), -1)\n",
    "    \n",
    "    ## Case 1: rule is a single character (\"a\", or \"b\")\n",
    "    if ruleString[0] == '\"':\n",
    "        return ruleString\n",
    "    ## Case 2: rule is an index or a series of indexes with no pipes ('4 1 5', '3')\n",
    "    elif splitIndex == -1:\n",
    "        return [[int(element) for element in ruleString.split(' ')]]\n",
    "    ## Case 3: rule is two series of indexes split by a pipe ('4 5 | 5 4')\n",
    "    else:\n",
    "        leftRule = RuleStringToList(ruleString[:splitIndex-1])\n",
    "        rightRule = RuleStringToList(ruleString[splitIndex+2:])\n",
    "        ## I know it's dumb, but it works\n",
    "        return [leftRule[0], rightRule[0]]\n",
    "\n",
    "def RulesCanProduceMessage(message, rulesList):   \n",
    "    if message == '' and rulesList == []:\n",
    "        return True\n",
    "    elif message == '' or rulesList == []:\n",
    "        return False\n",
    "    \n",
    "    firstRule = rulesList[0]\n",
    "    firstRuleRequirements = RuleStringToList(indexToRuleDictionary[firstRule])\n",
    "    \n",
    "    ## If the first rule is one of the two \"single letter\" rules, i.e. #: \"a\" or #: \"b\"\n",
    "    if '\"' in firstRuleRequirements:\n",
    "        ## If the message begins with the matching letter, strip character and corresponding rule\n",
    "        if message[0] in firstRuleRequirements:\n",
    "            return RulesCanProduceMessage(message[1:], rulesList[1:])\n",
    "        ## If it doesn't, it will never match\n",
    "        else:\n",
    "            return False\n",
    "    ## If not a single letter rule, then we expand the first rule to its requirements and rerun the function\n",
    "    ## RuleStringToList is coded as to return [[1, 2]] if rule is \"#: 1 2\" and [[1, 2], [3,4]] if rule is \"#: 1 2 | 3 4\"\n",
    "    else:\n",
    "        matches = False\n",
    "        for nestedRule in firstRuleRequirements:\n",
    "            matches += RulesCanProduceMessage(message, nestedRule + rulesList[1:])\n",
    "        return matches"
   ]
  },
  {
   "cell_type": "code",
   "execution_count": 10,
   "metadata": {},
   "outputs": [
    {
     "name": "stdout",
     "output_type": "stream",
     "text": [
      "Number of messages that match rule 0 with patched rules 8 and 11: 314\n",
      "Total found in 3.8873 seconds.\n"
     ]
    }
   ],
   "source": [
    "tic = time.perf_counter()\n",
    "matchCounterPatched = sum(RulesCanProduceMessage(m,[0]) for m in messages)\n",
    "toc = time.perf_counter()\n",
    "\n",
    "print('Number of messages that match rule 0 with patched rules 8 and 11:', matchCounterPatched)\n",
    "print(f\"Total found in {toc - tic:0.4f} seconds.\")"
   ]
  }
 ],
 "metadata": {
  "kernelspec": {
   "display_name": "Python 3",
   "language": "python",
   "name": "python3"
  },
  "language_info": {
   "codemirror_mode": {
    "name": "ipython",
    "version": 3
   },
   "file_extension": ".py",
   "mimetype": "text/x-python",
   "name": "python",
   "nbconvert_exporter": "python",
   "pygments_lexer": "ipython3",
   "version": "3.8.5"
  }
 },
 "nbformat": 4,
 "nbformat_minor": 4
}
