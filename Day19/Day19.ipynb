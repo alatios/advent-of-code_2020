{
 "cells": [
  {
   "cell_type": "code",
   "execution_count": 1,
   "metadata": {},
   "outputs": [],
   "source": [
    "import numpy as np\n",
    "import pandas as pd\n",
    "import time"
   ]
  },
  {
   "cell_type": "markdown",
   "metadata": {},
   "source": [
    "## READ THE DATA"
   ]
  },
  {
   "cell_type": "code",
   "execution_count": 2,
   "metadata": {},
   "outputs": [],
   "source": [
    "def SplitFile(fileLines):\n",
    "    g = []\n",
    "    for line in fileLines:\n",
    "        if line == '':\n",
    "            yield g\n",
    "            g = []\n",
    "        else:\n",
    "            g.append(line)\n",
    "    yield g"
   ]
  },
  {
   "cell_type": "code",
   "execution_count": 3,
   "metadata": {},
   "outputs": [],
   "source": [
    "fileName = 'input.txt'\n",
    "fileLines = open(fileName).read().splitlines()\n",
    "rules, messages = list(SplitFile(fileLines))"
   ]
  },
  {
   "cell_type": "markdown",
   "metadata": {},
   "source": [
    "## PART 1"
   ]
  },
  {
   "cell_type": "code",
   "execution_count": 4,
   "metadata": {},
   "outputs": [],
   "source": [
    "indexToRuleDictionary = {}\n",
    "\n",
    "for rule in rules:\n",
    "    ruleIndex, ruleCondition = rule.split(\": \")\n",
    "    indexToRuleDictionary[int(ruleIndex)] = ruleCondition"
   ]
  },
  {
   "cell_type": "code",
   "execution_count": 5,
   "metadata": {},
   "outputs": [],
   "source": [
    "def AppendToRuleDictionary(dictionary, key, element):\n",
    "    if key in dictionary:\n",
    "        dictionary[key].append(element)\n",
    "    else:\n",
    "        dictionary[key] = element"
   ]
  },
  {
   "cell_type": "code",
   "execution_count": 6,
   "metadata": {},
   "outputs": [],
   "source": [
    "## This one decodes any rule\n",
    "def DecodeRule(indexToRuleDictionary, processedRuleDictionary, ruleString):\n",
    "    ## Get index of pipe, or -1 if there is none\n",
    "    splitIndex = next((index for index, element in enumerate(ruleString) if element == '|'), -1)\n",
    "    \n",
    "    ## Case 1: rule is a single character (\"a\", or \"b\")\n",
    "    if ((splitIndex == -1) and (ruleString[0] == '\"')):\n",
    "        return [ruleString[1:-1]]\n",
    "    \n",
    "    ## Case 2: rule is an index or a series of indexes with no pipes ('4 1 5', '3')\n",
    "    if ((splitIndex == -1) and (ruleString[0] != '\"')):\n",
    "        ruleList = [int(element) for element in ruleString.split(' ')]\n",
    "        decodedRuleList = ['']\n",
    "        for ruleIndex in ruleList:\n",
    "            newDecodedRuleList = DecodeRuleByIndex(indexToRuleDictionary, processedRuleDictionary, ruleIndex)\n",
    "            decodedRuleList = [str(before) + str(after) for before in decodedRuleList for after in newDecodedRuleList]\n",
    "        return decodedRuleList\n",
    "    \n",
    "    ## Case: rule is two series of indexes split by a pipe ('4 5 | 5 4')\n",
    "    leftRule = ruleString[:splitIndex-1]\n",
    "    rightRule = ruleString[splitIndex+2:]\n",
    "    lstLeft = DecodeRule(indexToRuleDictionary, processedRuleDictionary, leftRule)\n",
    "    lstRight = DecodeRule(indexToRuleDictionary, processedRuleDictionary, rightRule)\n",
    "    return lstLeft + lstRight\n",
    "\n",
    "## This one decodes any indexed rule, updating the processed rule dictionary\n",
    "def DecodeRuleByIndex(indexToRuleDictionary, processedRuleDictionary, indexToDecode):\n",
    "    if indexToDecode in processedRuleDictionary:\n",
    "        return processedRuleDictionary[indexToDecode]\n",
    "    \n",
    "    ruleString = indexToRuleDictionary[indexToDecode]\n",
    "    decodedRule = DecodeRule(indexToRuleDictionary, processedRuleDictionary, ruleString)\n",
    "    AppendToRuleDictionary(processedRuleDictionary, indexToDecode, decodedRule)\n",
    "    return decodedRule"
   ]
  },
  {
   "cell_type": "code",
   "execution_count": 7,
   "metadata": {},
   "outputs": [
    {
     "name": "stdout",
     "output_type": "stream",
     "text": [
      "Number of messages that match rule 0: 104\n",
      "Total found in 11.0933 seconds.\n"
     ]
    }
   ],
   "source": [
    "dicProcess = {}\n",
    "tic = time.perf_counter()\n",
    "DecodeRuleByIndex(indexToRuleDictionary, dicProcess, 0)\n",
    "\n",
    "matchCounter = 0\n",
    "\n",
    "for message in messages:\n",
    "    if message in dicProcess[0]:\n",
    "        matchCounter += 1\n",
    "toc = time.perf_counter()\n",
    "        \n",
    "print('Number of messages that match rule 0:', matchCounter)\n",
    "print(f\"Total found in {toc - tic:0.4f} seconds.\")"
   ]
  },
  {
   "cell_type": "code",
   "execution_count": null,
   "metadata": {},
   "outputs": [],
   "source": []
  }
 ],
 "metadata": {
  "kernelspec": {
   "display_name": "Python 3",
   "language": "python",
   "name": "python3"
  },
  "language_info": {
   "codemirror_mode": {
    "name": "ipython",
    "version": 3
   },
   "file_extension": ".py",
   "mimetype": "text/x-python",
   "name": "python",
   "nbconvert_exporter": "python",
   "pygments_lexer": "ipython3",
   "version": "3.8.5"
  }
 },
 "nbformat": 4,
 "nbformat_minor": 4
}
