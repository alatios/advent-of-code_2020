{
 "cells": [
  {
   "cell_type": "code",
   "execution_count": 2,
   "metadata": {},
   "outputs": [],
   "source": [
    "import numpy as np\n",
    "import pandas as pd"
   ]
  },
  {
   "cell_type": "code",
   "execution_count": 33,
   "metadata": {},
   "outputs": [],
   "source": [
    "fileToOpen = 'input.txt'"
   ]
  },
  {
   "cell_type": "code",
   "execution_count": 4,
   "metadata": {},
   "outputs": [],
   "source": [
    "def IsolateContentName(string):\n",
    "    length = len(string)\n",
    "    \n",
    "    if string == 'no other bags.':\n",
    "        return (False, 0)\n",
    "    elif string[length-4:length] == 'bags':\n",
    "        return (string[2:length-5], int(string[0]))\n",
    "    elif string[length-3:length] == 'bag':\n",
    "        return (string[2:length-4], int(string[0]))\n",
    "    elif string[length-5:length] == 'bags.':\n",
    "        return (string[2:length-6], int(string[0]))\n",
    "    elif string[length-4:length] == 'bag.':\n",
    "        return (string[2:length-5], int(string[0]))\n",
    "    else:\n",
    "        print(\"ERROR: content pattern\", string, \"not recognized\")\n",
    "        return ('ERROR', 0)\n",
    "\n",
    "def IsolateBagName(string):\n",
    "    length = len(string)\n",
    "    return string[:length-5]\n",
    "\n",
    "def AppendToColumnList(columnList, bag):\n",
    "    if bag != False:\n",
    "        if bag in columnList:\n",
    "            return columnList\n",
    "        else:\n",
    "            return columnList.append(bag)\n",
    "        \n",
    "def AppendToNonRepeatingList(lst, string):\n",
    "    if string in lst:\n",
    "        return lst\n",
    "    else:\n",
    "        return lst.append(string)"
   ]
  },
  {
   "cell_type": "markdown",
   "metadata": {},
   "source": [
    "## READ THE DATA"
   ]
  },
  {
   "cell_type": "code",
   "execution_count": 34,
   "metadata": {},
   "outputs": [
    {
     "name": "stdout",
     "output_type": "stream",
     "text": [
      "594\n"
     ]
    }
   ],
   "source": [
    "## First run: we get all bag names\n",
    "\n",
    "columnList = []\n",
    "\n",
    "with open(fileToOpen) as openFileObject:\n",
    "    for line in openFileObject:\n",
    "        bag, content = line.rstrip().split(\" contain \")\n",
    "        AppendToColumnList(columnList, IsolateBagName(bag))\n",
    "#        for element in content.split(\", \"):\n",
    "#            AppendToColumnList(columnList, IsolateContentName(element)[0])\n",
    "\n",
    "#print(columnList)\n",
    "print(len(columnList))"
   ]
  },
  {
   "cell_type": "code",
   "execution_count": 35,
   "metadata": {},
   "outputs": [
    {
     "name": "stdout",
     "output_type": "stream",
     "text": [
      "Processing bag 20 of 594\n",
      "Processing bag 40 of 594\n",
      "Processing bag 60 of 594\n",
      "Processing bag 80 of 594\n",
      "Processing bag 100 of 594\n",
      "Processing bag 120 of 594\n",
      "Processing bag 140 of 594\n",
      "Processing bag 160 of 594\n",
      "Processing bag 180 of 594\n",
      "Processing bag 200 of 594\n",
      "Processing bag 220 of 594\n",
      "Processing bag 240 of 594\n",
      "Processing bag 260 of 594\n",
      "Processing bag 280 of 594\n",
      "Processing bag 300 of 594\n",
      "Processing bag 320 of 594\n",
      "Processing bag 340 of 594\n",
      "Processing bag 360 of 594\n",
      "Processing bag 380 of 594\n",
      "Processing bag 400 of 594\n",
      "Processing bag 420 of 594\n",
      "Processing bag 440 of 594\n",
      "Processing bag 460 of 594\n",
      "Processing bag 480 of 594\n",
      "Processing bag 500 of 594\n",
      "Processing bag 520 of 594\n",
      "Processing bag 540 of 594\n",
      "Processing bag 560 of 594\n",
      "Processing bag 580 of 594\n"
     ]
    },
    {
     "data": {
      "text/html": [
       "<div>\n",
       "<style scoped>\n",
       "    .dataframe tbody tr th:only-of-type {\n",
       "        vertical-align: middle;\n",
       "    }\n",
       "\n",
       "    .dataframe tbody tr th {\n",
       "        vertical-align: top;\n",
       "    }\n",
       "\n",
       "    .dataframe thead th {\n",
       "        text-align: right;\n",
       "    }\n",
       "</style>\n",
       "<table border=\"1\" class=\"dataframe\">\n",
       "  <thead>\n",
       "    <tr style=\"text-align: right;\">\n",
       "      <th></th>\n",
       "      <th>shiny aqua</th>\n",
       "      <th>muted blue</th>\n",
       "      <th>drab gray</th>\n",
       "      <th>muted indigo</th>\n",
       "      <th>drab white</th>\n",
       "      <th>dim lavender</th>\n",
       "      <th>dotted tomato</th>\n",
       "      <th>clear orange</th>\n",
       "      <th>bright lime</th>\n",
       "      <th>striped brown</th>\n",
       "      <th>...</th>\n",
       "      <th>striped cyan</th>\n",
       "      <th>muted tomato</th>\n",
       "      <th>dotted red</th>\n",
       "      <th>dark beige</th>\n",
       "      <th>dark cyan</th>\n",
       "      <th>dull lime</th>\n",
       "      <th>light brown</th>\n",
       "      <th>vibrant magenta</th>\n",
       "      <th>shiny brown</th>\n",
       "      <th>drab purple</th>\n",
       "    </tr>\n",
       "  </thead>\n",
       "  <tbody>\n",
       "    <tr>\n",
       "      <th>shiny aqua</th>\n",
       "      <td>0</td>\n",
       "      <td>0</td>\n",
       "      <td>0</td>\n",
       "      <td>0</td>\n",
       "      <td>0</td>\n",
       "      <td>0</td>\n",
       "      <td>0</td>\n",
       "      <td>0</td>\n",
       "      <td>0</td>\n",
       "      <td>0</td>\n",
       "      <td>...</td>\n",
       "      <td>0</td>\n",
       "      <td>0</td>\n",
       "      <td>0</td>\n",
       "      <td>0</td>\n",
       "      <td>0</td>\n",
       "      <td>0</td>\n",
       "      <td>0</td>\n",
       "      <td>0</td>\n",
       "      <td>0</td>\n",
       "      <td>0</td>\n",
       "    </tr>\n",
       "    <tr>\n",
       "      <th>muted blue</th>\n",
       "      <td>0</td>\n",
       "      <td>0</td>\n",
       "      <td>0</td>\n",
       "      <td>0</td>\n",
       "      <td>0</td>\n",
       "      <td>0</td>\n",
       "      <td>0</td>\n",
       "      <td>0</td>\n",
       "      <td>0</td>\n",
       "      <td>0</td>\n",
       "      <td>...</td>\n",
       "      <td>0</td>\n",
       "      <td>0</td>\n",
       "      <td>0</td>\n",
       "      <td>0</td>\n",
       "      <td>0</td>\n",
       "      <td>0</td>\n",
       "      <td>0</td>\n",
       "      <td>0</td>\n",
       "      <td>0</td>\n",
       "      <td>0</td>\n",
       "    </tr>\n",
       "    <tr>\n",
       "      <th>drab gray</th>\n",
       "      <td>0</td>\n",
       "      <td>0</td>\n",
       "      <td>0</td>\n",
       "      <td>0</td>\n",
       "      <td>0</td>\n",
       "      <td>0</td>\n",
       "      <td>0</td>\n",
       "      <td>0</td>\n",
       "      <td>0</td>\n",
       "      <td>0</td>\n",
       "      <td>...</td>\n",
       "      <td>0</td>\n",
       "      <td>0</td>\n",
       "      <td>0</td>\n",
       "      <td>0</td>\n",
       "      <td>0</td>\n",
       "      <td>0</td>\n",
       "      <td>0</td>\n",
       "      <td>0</td>\n",
       "      <td>0</td>\n",
       "      <td>0</td>\n",
       "    </tr>\n",
       "    <tr>\n",
       "      <th>muted indigo</th>\n",
       "      <td>0</td>\n",
       "      <td>0</td>\n",
       "      <td>0</td>\n",
       "      <td>0</td>\n",
       "      <td>0</td>\n",
       "      <td>0</td>\n",
       "      <td>0</td>\n",
       "      <td>0</td>\n",
       "      <td>0</td>\n",
       "      <td>0</td>\n",
       "      <td>...</td>\n",
       "      <td>0</td>\n",
       "      <td>0</td>\n",
       "      <td>0</td>\n",
       "      <td>0</td>\n",
       "      <td>0</td>\n",
       "      <td>0</td>\n",
       "      <td>0</td>\n",
       "      <td>0</td>\n",
       "      <td>0</td>\n",
       "      <td>0</td>\n",
       "    </tr>\n",
       "    <tr>\n",
       "      <th>drab white</th>\n",
       "      <td>0</td>\n",
       "      <td>0</td>\n",
       "      <td>0</td>\n",
       "      <td>0</td>\n",
       "      <td>0</td>\n",
       "      <td>0</td>\n",
       "      <td>0</td>\n",
       "      <td>0</td>\n",
       "      <td>0</td>\n",
       "      <td>0</td>\n",
       "      <td>...</td>\n",
       "      <td>0</td>\n",
       "      <td>0</td>\n",
       "      <td>0</td>\n",
       "      <td>0</td>\n",
       "      <td>0</td>\n",
       "      <td>0</td>\n",
       "      <td>0</td>\n",
       "      <td>0</td>\n",
       "      <td>0</td>\n",
       "      <td>0</td>\n",
       "    </tr>\n",
       "  </tbody>\n",
       "</table>\n",
       "<p>5 rows × 594 columns</p>\n",
       "</div>"
      ],
      "text/plain": [
       "              shiny aqua  muted blue  drab gray  muted indigo  drab white  \\\n",
       "shiny aqua             0           0          0             0           0   \n",
       "muted blue             0           0          0             0           0   \n",
       "drab gray              0           0          0             0           0   \n",
       "muted indigo           0           0          0             0           0   \n",
       "drab white             0           0          0             0           0   \n",
       "\n",
       "              dim lavender  dotted tomato  clear orange  bright lime  \\\n",
       "shiny aqua               0              0             0            0   \n",
       "muted blue               0              0             0            0   \n",
       "drab gray                0              0             0            0   \n",
       "muted indigo             0              0             0            0   \n",
       "drab white               0              0             0            0   \n",
       "\n",
       "              striped brown  ...  striped cyan  muted tomato  dotted red  \\\n",
       "shiny aqua                0  ...             0             0           0   \n",
       "muted blue                0  ...             0             0           0   \n",
       "drab gray                 0  ...             0             0           0   \n",
       "muted indigo              0  ...             0             0           0   \n",
       "drab white                0  ...             0             0           0   \n",
       "\n",
       "              dark beige  dark cyan  dull lime  light brown  vibrant magenta  \\\n",
       "shiny aqua             0          0          0            0                0   \n",
       "muted blue             0          0          0            0                0   \n",
       "drab gray              0          0          0            0                0   \n",
       "muted indigo           0          0          0            0                0   \n",
       "drab white             0          0          0            0                0   \n",
       "\n",
       "              shiny brown  drab purple  \n",
       "shiny aqua              0            0  \n",
       "muted blue              0            0  \n",
       "drab gray               0            0  \n",
       "muted indigo            0            0  \n",
       "drab white              0            0  \n",
       "\n",
       "[5 rows x 594 columns]"
      ]
     },
     "execution_count": 35,
     "metadata": {},
     "output_type": "execute_result"
    }
   ],
   "source": [
    "## Second run: we actually fill our dataframe\n",
    "bagData = pd.DataFrame(columns=columnList)\n",
    "dictionary = {}\n",
    "progress = 0\n",
    "\n",
    "with open(fileToOpen) as openFileObject:\n",
    "    for line in openFileObject:\n",
    "        progress += 1\n",
    "        if progress % 20 == 0:\n",
    "            print(\"Processing bag\", progress, \"of\", len(columnList))\n",
    "        bag, content = line.rstrip().split(\" contain \")\n",
    "        for element in content.split(\", \"):\n",
    "            dictionary[IsolateContentName(element)[0]] = IsolateContentName(element)[1]\n",
    "        \n",
    "        bagData.loc[IsolateBagName(bag)] = dictionary\n",
    "        dictionary.clear()\n",
    "\n",
    "bagData = bagData.fillna(0)\n",
    "bagData.head()"
   ]
  },
  {
   "cell_type": "markdown",
   "metadata": {},
   "source": [
    "## PART 1"
   ]
  },
  {
   "cell_type": "code",
   "execution_count": 7,
   "metadata": {},
   "outputs": [],
   "source": [
    "def BagsThatCanContainABag(bagDF, bag):\n",
    "    return bagDF.loc[bagDF[bag] > 0].index.values.tolist()\n",
    "\n",
    "def CumulativeBagSearch(bagDF, wantedBag):\n",
    "    cumulativeListOfBags = []\n",
    "    listOfBagsToSearch = [wantedBag]\n",
    "    listOfBagsThatContainSearchedBags = []\n",
    "\n",
    "    while len(listOfBagsToSearch) != 0:\n",
    "        for bagToSearch in listOfBagsToSearch:\n",
    "            for containee in BagsThatCanContainABag(bagDF, bagToSearch):\n",
    "                AppendToNonRepeatingList(listOfBagsThatContainSearchedBags, containee)\n",
    "\n",
    "        for bag in listOfBagsThatContainSearchedBags:\n",
    "            AppendToNonRepeatingList(cumulativeListOfBags,bag)\n",
    "\n",
    "        listOfBagsToSearch = listOfBagsThatContainSearchedBags\n",
    "        listOfBagsThatContainSearchedBags = []\n",
    "\n",
    "    return cumulativeListOfBags"
   ]
  },
  {
   "cell_type": "code",
   "execution_count": 8,
   "metadata": {},
   "outputs": [
    {
     "name": "stdout",
     "output_type": "stream",
     "text": [
      "265\n"
     ]
    }
   ],
   "source": [
    "bagSolutionList = CumulativeBagSearch(bagData, 'shiny gold')\n",
    "#print(bagSolutionList)\n",
    "print(len(bagSolutionList))"
   ]
  },
  {
   "cell_type": "markdown",
   "metadata": {},
   "source": [
    "## PART 2"
   ]
  },
  {
   "cell_type": "code",
   "execution_count": 9,
   "metadata": {},
   "outputs": [],
   "source": [
    "def BagsThatABagMustContain(bagDF, bag):\n",
    "    dictionary = {}\n",
    "    \n",
    "    for containedBag in bagDF[bagData.loc[bag] > 0].index.values.tolist():\n",
    "        dictionary[containedBag] = bagData.loc[bag, containedBag]\n",
    "    \n",
    "    return dictionary"
   ]
  },
  {
   "cell_type": "code",
   "execution_count": 10,
   "metadata": {},
   "outputs": [
    {
     "name": "stdout",
     "output_type": "stream",
     "text": [
      "{'light aqua': 425, 'muted fuchsia': 42, 'faded turquoise': 4, 'light lime': 20, 'dull magenta': 636, 'dark brown': 240, 'dull tan': 42, 'vibrant coral': 240, 'bright orange': 240, 'plaid indigo': 80, 'dark white': 21, 'shiny indigo': 2886, 'wavy coral': 1275, 'light green': 240, 'faded cyan': 168, 'light purple': 1957, 'plaid lavender': 593, 'dim teal': 42, 'dull silver': 4066, 'bright red': 960}\n",
      "14177\n"
     ]
    }
   ],
   "source": [
    "dicOfCumulativeBags = {}\n",
    "dicOfBagsToSearch = {'shiny gold': 1}\n",
    "bagsToSearchNextStep = {}\n",
    "\n",
    "while len(list(dicOfBagsToSearch.keys())) != 0:\n",
    "    for bagToSearch in list(dicOfBagsToSearch.keys()):\n",
    "        bagsToAdd = BagsThatABagMustContain(bagData, bagToSearch)\n",
    "        totalNewBagsAdded = {k: bagsToAdd.get(k,0) * dicOfBagsToSearch[bagToSearch] for k in bagsToAdd}\n",
    "        bagsToSearchNextStep = {k: bagsToSearchNextStep.get(k, 0) + totalNewBagsAdded.get(k, 0) for k in set(totalNewBagsAdded) | set(bagsToSearchNextStep)}\n",
    "        dicOfCumulativeBags = {k: totalNewBagsAdded.get(k, 0) + dicOfCumulativeBags.get(k, 0) for k in set(dicOfCumulativeBags) | set(bagsToSearchNextStep)}\n",
    "    dicOfBagsToSearch = bagsToSearchNextStep.copy()\n",
    "    bagsToSearchNextStep.clear()\n",
    "\n",
    "print(dicOfCumulativeBags)\n",
    "print(sum(dicOfCumulativeBags.values()))"
   ]
  },
  {
   "cell_type": "markdown",
   "metadata": {},
   "source": [
    "## PART 2/ALT"
   ]
  },
  {
   "cell_type": "code",
   "execution_count": 50,
   "metadata": {},
   "outputs": [],
   "source": [
    "def NestedBagSearch(bagDF, bag):\n",
    "    dictionary = BagsThatABagMustContain(bagDF, bag)\n",
    "    if not dictionary:\n",
    "        return 1\n",
    "    \n",
    "    ## We begin with one bag (the searched one), then we sum all the children\n",
    "    numberOfNestedBags = 1\n",
    "    \n",
    "    for nestedBag in dictionary:\n",
    "        numberOfNestedBags += dictionary[nestedBag] * NestedBagSearch(bagDF, nestedBag)\n",
    "    \n",
    "    return numberOfNestedBags"
   ]
  },
  {
   "cell_type": "code",
   "execution_count": 51,
   "metadata": {},
   "outputs": [
    {
     "data": {
      "text/plain": [
       "14177"
      ]
     },
     "execution_count": 51,
     "metadata": {},
     "output_type": "execute_result"
    }
   ],
   "source": [
    "## The function counts all bags, included the searched one. But we want to know all bags INSIDE that one!\n",
    "## Ergo, minus one\n",
    "NestedBagSearch(bagData, 'shiny gold') - 1"
   ]
  }
 ],
 "metadata": {
  "kernelspec": {
   "display_name": "Python 3",
   "language": "python",
   "name": "python3"
  },
  "language_info": {
   "codemirror_mode": {
    "name": "ipython",
    "version": 3
   },
   "file_extension": ".py",
   "mimetype": "text/x-python",
   "name": "python",
   "nbconvert_exporter": "python",
   "pygments_lexer": "ipython3",
   "version": "3.8.5"
  }
 },
 "nbformat": 4,
 "nbformat_minor": 4
}
