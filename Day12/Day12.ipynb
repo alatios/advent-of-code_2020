{
 "cells": [
  {
   "cell_type": "code",
   "execution_count": 1,
   "metadata": {},
   "outputs": [],
   "source": [
    "import numpy as np\n",
    "import pandas as pd"
   ]
  },
  {
   "cell_type": "markdown",
   "metadata": {},
   "source": [
    "## READ THE DATA"
   ]
  },
  {
   "cell_type": "code",
   "execution_count": 2,
   "metadata": {},
   "outputs": [],
   "source": [
    "fileName = 'input.txt'"
   ]
  },
  {
   "cell_type": "code",
   "execution_count": 3,
   "metadata": {},
   "outputs": [
    {
     "data": {
      "text/html": [
       "<div>\n",
       "<style scoped>\n",
       "    .dataframe tbody tr th:only-of-type {\n",
       "        vertical-align: middle;\n",
       "    }\n",
       "\n",
       "    .dataframe tbody tr th {\n",
       "        vertical-align: top;\n",
       "    }\n",
       "\n",
       "    .dataframe thead th {\n",
       "        text-align: right;\n",
       "    }\n",
       "</style>\n",
       "<table border=\"1\" class=\"dataframe\">\n",
       "  <thead>\n",
       "    <tr style=\"text-align: right;\">\n",
       "      <th></th>\n",
       "      <th>inst</th>\n",
       "      <th>value</th>\n",
       "    </tr>\n",
       "  </thead>\n",
       "  <tbody>\n",
       "    <tr>\n",
       "      <th>0</th>\n",
       "      <td>L</td>\n",
       "      <td>90</td>\n",
       "    </tr>\n",
       "    <tr>\n",
       "      <th>1</th>\n",
       "      <td>F</td>\n",
       "      <td>67</td>\n",
       "    </tr>\n",
       "    <tr>\n",
       "      <th>2</th>\n",
       "      <td>R</td>\n",
       "      <td>270</td>\n",
       "    </tr>\n",
       "    <tr>\n",
       "      <th>3</th>\n",
       "      <td>W</td>\n",
       "      <td>1</td>\n",
       "    </tr>\n",
       "    <tr>\n",
       "      <th>4</th>\n",
       "      <td>R</td>\n",
       "      <td>180</td>\n",
       "    </tr>\n",
       "  </tbody>\n",
       "</table>\n",
       "</div>"
      ],
      "text/plain": [
       "  inst value\n",
       "0    L    90\n",
       "1    F    67\n",
       "2    R   270\n",
       "3    W     1\n",
       "4    R   180"
      ]
     },
     "execution_count": 3,
     "metadata": {},
     "output_type": "execute_result"
    }
   ],
   "source": [
    "with open(fileName) as openFile:\n",
    "    instructionArray = [[line.rstrip()[0], line.rstrip()[1:]] for line in openFile]\n",
    "instructionData = pd.DataFrame(instructionArray, columns=['inst', 'value'])\n",
    "instructionData.head()"
   ]
  },
  {
   "cell_type": "markdown",
   "metadata": {},
   "source": [
    "## PART 1"
   ]
  },
  {
   "cell_type": "code",
   "execution_count": 4,
   "metadata": {},
   "outputs": [],
   "source": [
    "class Ship:\n",
    "    \n",
    "    def __init__(self, north, south, east, west, direction):\n",
    "        self.north = north - south\n",
    "        self.east = east - west\n",
    "        self.direction = direction\n",
    "    \n",
    "    def GetPosition(self):\n",
    "        if self.north >= 0:\n",
    "            north = self.north\n",
    "            south = 0\n",
    "        else:\n",
    "            north = 0\n",
    "            south = abs(self.north)\n",
    "        \n",
    "        if self.east >= 0:\n",
    "            east = self.east\n",
    "            west = 0\n",
    "        else:\n",
    "            east = 0\n",
    "            west = abs(self.east)\n",
    "        \n",
    "        return (north, south, east, west, self.direction)\n",
    "    \n",
    "    def ManhattanDistance(self):\n",
    "        north, south, east, west, direction = self.GetPosition()\n",
    "        return north+south+east+west\n",
    "    \n",
    "    def Move(self, direction, value):\n",
    "        value = int(value)\n",
    "        \n",
    "        if direction == 'N':\n",
    "            self.north += value\n",
    "        elif direction == 'S':\n",
    "            self.north -= value\n",
    "        elif direction == 'E':\n",
    "            self.east += value\n",
    "        elif direction == 'W':\n",
    "            self.east -= value\n",
    "        else:\n",
    "            print(direction, \"is not a valid movement direction.\")\n",
    "        \n",
    "    def Rotate(self, direction, angle):\n",
    "        angle = int(angle)\n",
    "        \n",
    "        if not angle % 90 == 0:\n",
    "            print(\"WARNING: angle\", angle, \"is not expected.\")\n",
    "        \n",
    "        dic = {'N':0, 'E':1, 'S':2, 'W':3}\n",
    "        dicInv = {0:'N', 1:'E', 2:'S', 3:'W'}\n",
    "        \n",
    "        if direction == 'R':\n",
    "            self.direction = dicInv[(dic[self.direction] + int(angle/90))%4]\n",
    "        elif direction == 'L':\n",
    "            self.direction = dicInv[(dic[self.direction] - int(angle/90))%4]\n",
    "        else:\n",
    "            print(direction, \"is not a valid rotation direction.\")\n",
    "    \n",
    "    def ParseInstruction(self, instruction, value):\n",
    "        if instruction in ['N', 'S', 'E', 'W']:\n",
    "            self.Move(instruction, value)\n",
    "        elif instruction == 'F':\n",
    "            self.Move(self.direction, value)\n",
    "        elif instruction in ['R', 'L']:\n",
    "            self.Rotate(instruction, value)\n",
    "        else:\n",
    "            print(instruction, \"is not a valid instruction.\")"
   ]
  },
  {
   "cell_type": "code",
   "execution_count": 5,
   "metadata": {},
   "outputs": [
    {
     "name": "stdout",
     "output_type": "stream",
     "text": [
      "(N, S, E, W, DIR): (24, 0, 0, 1109, 'W')\n",
      "Manhattan distance: 1133\n"
     ]
    }
   ],
   "source": [
    "ship = Ship(0,0,0,0,'E')\n",
    "for i in instructionData.index.values:\n",
    "    inst = instructionData.loc[i,'inst']\n",
    "    value = instructionData.loc[i,'value']\n",
    "    ship.ParseInstruction(inst, value)\n",
    "    #print(ship.GetPosition())\n",
    "\n",
    "print(\"(N, S, E, W, DIR):\", ship.GetPosition())\n",
    "print(\"Manhattan distance:\", ship.ManhattanDistance())"
   ]
  },
  {
   "cell_type": "markdown",
   "metadata": {},
   "source": [
    "## PART 2"
   ]
  },
  {
   "cell_type": "code",
   "execution_count": 6,
   "metadata": {},
   "outputs": [],
   "source": [
    "class ShipWithWaypoint:\n",
    "    def __init__(self, north, south, east, west, northWP, southWP, eastWP, westWP):\n",
    "        self.north = north - south\n",
    "        self.east = east - west\n",
    "        self.northWP = northWP - southWP\n",
    "        self.eastWP = eastWP - westWP\n",
    "\n",
    "    def GetShipPosition(self):\n",
    "        if self.north >= 0:\n",
    "            north = self.north\n",
    "            south = 0\n",
    "        else:\n",
    "            north = 0\n",
    "            south = abs(self.north)\n",
    "\n",
    "        if self.east >= 0:\n",
    "            east = self.east\n",
    "            west = 0\n",
    "        else:\n",
    "            east = 0\n",
    "            west = abs(self.east)\n",
    "\n",
    "        return (north, south, east, west)\n",
    "\n",
    "    def GetWaypointPosition(self):\n",
    "        if self.northWP >= 0:\n",
    "            north = self.northWP\n",
    "            south = 0\n",
    "        else:\n",
    "            north = 0\n",
    "            south = abs(self.northWP)\n",
    "\n",
    "        if self.eastWP >= 0:\n",
    "            east = self.eastWP\n",
    "            west = 0\n",
    "        else:\n",
    "            east = 0\n",
    "            west = abs(self.eastWP)\n",
    "\n",
    "        return (north, south, east, west)\n",
    "    \n",
    "    def ManhattanDistance(self):\n",
    "        north, south, east, west = self.GetShipPosition()\n",
    "        return north+south+east+west\n",
    "    \n",
    "    def MoveWaypoint(self, direction, value):\n",
    "        value = int(value)\n",
    "        \n",
    "        if direction == 'N':\n",
    "            self.northWP += value\n",
    "        elif direction == 'S':\n",
    "            self.northWP -= value\n",
    "        elif direction == 'E':\n",
    "            self.eastWP += value\n",
    "        elif direction == 'W':\n",
    "            self.eastWP -= value\n",
    "        else:\n",
    "            print(direction, \"is not a valid waypoint movement direction.\")\n",
    "            \n",
    "    def MoveShipForward(self, value):\n",
    "        value = int(value)\n",
    "        \n",
    "        self.north += value * self.northWP\n",
    "        self.east += value * self.eastWP\n",
    "        \n",
    "    def RotateWaypoint(self, direction, angle):\n",
    "        angle = int(angle)\n",
    "        \n",
    "        if not angle % 90 == 0:\n",
    "            print(\"WARNING: angle\", angle, \"is not expected.\")\n",
    "        \n",
    "        for iteration in range(int(angle/90)%4):\n",
    "            if direction == 'R':\n",
    "                temp = self.northWP\n",
    "                self.northWP = (-1) * self.eastWP\n",
    "                self.eastWP = temp\n",
    "            elif direction == 'L':\n",
    "                temp = (-1) * self.northWP\n",
    "                self.northWP = self.eastWP\n",
    "                self.eastWP = temp\n",
    "            else:\n",
    "                print(direction, \"is not a valid rotation direction.\")\n",
    "\n",
    "    def ParseInstruction(self, instruction, value):\n",
    "        if instruction in ['N', 'S', 'E', 'W']:\n",
    "            self.MoveWaypoint(instruction, value)\n",
    "        elif instruction == 'F':\n",
    "            self.MoveShipForward(value)\n",
    "        elif instruction in ['R', 'L']:\n",
    "            self.RotateWaypoint(instruction, value)\n",
    "        else:\n",
    "            print(instruction, \"is not a valid instruction.\")"
   ]
  },
  {
   "cell_type": "code",
   "execution_count": 7,
   "metadata": {},
   "outputs": [
    {
     "name": "stdout",
     "output_type": "stream",
     "text": [
      "(N, S, E, W): (36701, 0, 24352, 0)\n",
      "Manhattan distance: 61053\n"
     ]
    }
   ],
   "source": [
    "shipCoords = (0,0,0,0)\n",
    "waypointCoords = (1,0,10,0)\n",
    "shipWithWaypoint = ShipWithWaypoint(*shipCoords, *waypointCoords)\n",
    "\n",
    "for i in instructionData.index.values:\n",
    "    inst = instructionData.loc[i,'inst']\n",
    "    value = instructionData.loc[i,'value']\n",
    "    shipWithWaypoint.ParseInstruction(inst, value)\n",
    "    #print(ship.GetPosition())\n",
    "\n",
    "print(\"(N, S, E, W):\", shipWithWaypoint.GetShipPosition())\n",
    "print(\"Manhattan distance:\", shipWithWaypoint.ManhattanDistance())"
   ]
  }
 ],
 "metadata": {
  "kernelspec": {
   "display_name": "Python 3",
   "language": "python",
   "name": "python3"
  },
  "language_info": {
   "codemirror_mode": {
    "name": "ipython",
    "version": 3
   },
   "file_extension": ".py",
   "mimetype": "text/x-python",
   "name": "python",
   "nbconvert_exporter": "python",
   "pygments_lexer": "ipython3",
   "version": "3.8.5"
  }
 },
 "nbformat": 4,
 "nbformat_minor": 4
}
