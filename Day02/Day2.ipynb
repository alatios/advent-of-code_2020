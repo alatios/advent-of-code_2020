{
 "cells": [
  {
   "cell_type": "code",
   "execution_count": 1,
   "metadata": {},
   "outputs": [],
   "source": [
    "import numpy as np\n",
    "import pandas as pd"
   ]
  },
  {
   "cell_type": "code",
   "execution_count": 2,
   "metadata": {},
   "outputs": [],
   "source": [
    "def CountCharacterInstancesInString(string, character):\n",
    "    return string.count(character)\n",
    "\n",
    "def CheckIfStringContainsCharacterWithinInterval(string, character, left, right):\n",
    "    numberOfInstances = CountCharacterInstancesInString(string, character)\n",
    "    if ((numberOfInstances >= left) and (numberOfInstances <= right)):\n",
    "        return True\n",
    "    else:\n",
    "        return False\n",
    "\n",
    "def CountValidCharacterPasswords_OldPolicy(data):\n",
    "    lefts = data[0].to_numpy()\n",
    "    rights = data[1].to_numpy()\n",
    "    characters = data[2].to_numpy()\n",
    "    strings = data[3].to_numpy()  \n",
    "    dim = strings.shape[0]\n",
    "    \n",
    "    validCounter = 0\n",
    "\n",
    "    for i in range(dim):\n",
    "        if(CheckIfStringContainsCharacterWithinInterval(strings[i], characters[i], lefts[i], rights[i])):\n",
    "            validCounter+=1\n",
    "\n",
    "    return validCounter"
   ]
  },
  {
   "cell_type": "code",
   "execution_count": 3,
   "metadata": {},
   "outputs": [
    {
     "data": {
      "text/html": [
       "<div>\n",
       "<style scoped>\n",
       "    .dataframe tbody tr th:only-of-type {\n",
       "        vertical-align: middle;\n",
       "    }\n",
       "\n",
       "    .dataframe tbody tr th {\n",
       "        vertical-align: top;\n",
       "    }\n",
       "\n",
       "    .dataframe thead th {\n",
       "        text-align: right;\n",
       "    }\n",
       "</style>\n",
       "<table border=\"1\" class=\"dataframe\">\n",
       "  <thead>\n",
       "    <tr style=\"text-align: right;\">\n",
       "      <th></th>\n",
       "      <th>0</th>\n",
       "      <th>1</th>\n",
       "      <th>2</th>\n",
       "      <th>3</th>\n",
       "    </tr>\n",
       "  </thead>\n",
       "  <tbody>\n",
       "    <tr>\n",
       "      <th>0</th>\n",
       "      <td>2</td>\n",
       "      <td>6</td>\n",
       "      <td>c</td>\n",
       "      <td>fcpwjqhcgtffzlbj</td>\n",
       "    </tr>\n",
       "    <tr>\n",
       "      <th>1</th>\n",
       "      <td>6</td>\n",
       "      <td>9</td>\n",
       "      <td>x</td>\n",
       "      <td>xxxtwlxxx</td>\n",
       "    </tr>\n",
       "    <tr>\n",
       "      <th>2</th>\n",
       "      <td>5</td>\n",
       "      <td>6</td>\n",
       "      <td>w</td>\n",
       "      <td>wwwwlwwwh</td>\n",
       "    </tr>\n",
       "    <tr>\n",
       "      <th>3</th>\n",
       "      <td>7</td>\n",
       "      <td>10</td>\n",
       "      <td>q</td>\n",
       "      <td>nfbrgwqlvljgq</td>\n",
       "    </tr>\n",
       "    <tr>\n",
       "      <th>4</th>\n",
       "      <td>2</td>\n",
       "      <td>3</td>\n",
       "      <td>g</td>\n",
       "      <td>gjggg</td>\n",
       "    </tr>\n",
       "    <tr>\n",
       "      <th>...</th>\n",
       "      <td>...</td>\n",
       "      <td>...</td>\n",
       "      <td>...</td>\n",
       "      <td>...</td>\n",
       "    </tr>\n",
       "    <tr>\n",
       "      <th>995</th>\n",
       "      <td>1</td>\n",
       "      <td>2</td>\n",
       "      <td>h</td>\n",
       "      <td>hhhhv</td>\n",
       "    </tr>\n",
       "    <tr>\n",
       "      <th>996</th>\n",
       "      <td>2</td>\n",
       "      <td>4</td>\n",
       "      <td>d</td>\n",
       "      <td>mvdclzddj</td>\n",
       "    </tr>\n",
       "    <tr>\n",
       "      <th>997</th>\n",
       "      <td>16</td>\n",
       "      <td>17</td>\n",
       "      <td>t</td>\n",
       "      <td>tttttttttttttttmt</td>\n",
       "    </tr>\n",
       "    <tr>\n",
       "      <th>998</th>\n",
       "      <td>2</td>\n",
       "      <td>3</td>\n",
       "      <td>l</td>\n",
       "      <td>jklzlmzrppdpzt</td>\n",
       "    </tr>\n",
       "    <tr>\n",
       "      <th>999</th>\n",
       "      <td>5</td>\n",
       "      <td>6</td>\n",
       "      <td>g</td>\n",
       "      <td>rvfgnggjgk</td>\n",
       "    </tr>\n",
       "  </tbody>\n",
       "</table>\n",
       "<p>1000 rows × 4 columns</p>\n",
       "</div>"
      ],
      "text/plain": [
       "      0   1  2                  3\n",
       "0     2   6  c   fcpwjqhcgtffzlbj\n",
       "1     6   9  x          xxxtwlxxx\n",
       "2     5   6  w          wwwwlwwwh\n",
       "3     7  10  q      nfbrgwqlvljgq\n",
       "4     2   3  g              gjggg\n",
       "..   ..  .. ..                ...\n",
       "995   1   2  h              hhhhv\n",
       "996   2   4  d          mvdclzddj\n",
       "997  16  17  t  tttttttttttttttmt\n",
       "998   2   3  l     jklzlmzrppdpzt\n",
       "999   5   6  g         rvfgnggjgk\n",
       "\n",
       "[1000 rows x 4 columns]"
      ]
     },
     "execution_count": 3,
     "metadata": {},
     "output_type": "execute_result"
    }
   ],
   "source": [
    "data = pd.read_csv('input.txt', sep=\" |: |-\", header=None,engine='python')\n",
    "data"
   ]
  },
  {
   "cell_type": "code",
   "execution_count": 4,
   "metadata": {},
   "outputs": [
    {
     "data": {
      "text/plain": [
       "582"
      ]
     },
     "execution_count": 4,
     "metadata": {},
     "output_type": "execute_result"
    }
   ],
   "source": [
    "CountValidCharacterPasswords_OldPolicy(data)"
   ]
  },
  {
   "cell_type": "code",
   "execution_count": 5,
   "metadata": {},
   "outputs": [],
   "source": [
    "## Index is defined as human-readable, i.e. no index zero.\n",
    "## In string 'abcdef', 'a' is considered at index 1\n",
    "def CheckIfIndexOfStringContainsCharacter(string,character,index):\n",
    "    if(string[index-1] == character):\n",
    "        return True\n",
    "    else:\n",
    "        return False\n",
    "\n",
    "def CheckIfNewPolicyIsValid(string,character,left,right):\n",
    "    characterPresence = 0\n",
    "    if(CheckIfIndexOfStringContainsCharacter(string, character, left)):\n",
    "        characterPresence += 1\n",
    "    if(CheckIfIndexOfStringContainsCharacter(string, character, right)):\n",
    "        characterPresence += 1\n",
    "    \n",
    "    if(characterPresence==1):\n",
    "        return True\n",
    "    else:\n",
    "        return False\n",
    "\n",
    "def CountValidCharacterPasswords_NewPolicy(data):\n",
    "    lefts = data[0].to_numpy()\n",
    "    rights = data[1].to_numpy()\n",
    "    characters = data[2].to_numpy()\n",
    "    strings = data[3].to_numpy()  \n",
    "    dim = strings.shape[0]\n",
    "    \n",
    "    validCounter = 0\n",
    "\n",
    "    for i in range(dim):\n",
    "        if(CheckIfNewPolicyIsValid(strings[i], characters[i], lefts[i], rights[i])):\n",
    "            validCounter+=1\n",
    "\n",
    "    return validCounter"
   ]
  },
  {
   "cell_type": "code",
   "execution_count": 6,
   "metadata": {},
   "outputs": [
    {
     "data": {
      "text/plain": [
       "729"
      ]
     },
     "execution_count": 6,
     "metadata": {},
     "output_type": "execute_result"
    }
   ],
   "source": [
    "CountValidCharacterPasswords_NewPolicy(data)"
   ]
  },
  {
   "cell_type": "code",
   "execution_count": null,
   "metadata": {},
   "outputs": [],
   "source": []
  }
 ],
 "metadata": {
  "kernelspec": {
   "display_name": "Python 3",
   "language": "python",
   "name": "python3"
  },
  "language_info": {
   "codemirror_mode": {
    "name": "ipython",
    "version": 3
   },
   "file_extension": ".py",
   "mimetype": "text/x-python",
   "name": "python",
   "nbconvert_exporter": "python",
   "pygments_lexer": "ipython3",
   "version": "3.8.5"
  }
 },
 "nbformat": 4,
 "nbformat_minor": 4
}
