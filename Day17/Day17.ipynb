{
 "cells": [
  {
   "cell_type": "markdown",
   "metadata": {},
   "source": [
    "## READ THE DATA"
   ]
  },
  {
   "cell_type": "code",
   "execution_count": 1,
   "metadata": {},
   "outputs": [
    {
     "name": "stdout",
     "output_type": "stream",
     "text": [
      "['#', '#', '#', '#', '#', '.', '.', '.']\n",
      "['.', '#', '.', '.', '#', '#', '.', '.']\n",
      "['#', '#', '.', '#', '#', '.', '#', '#']\n",
      "['.', '.', '.', '#', '#', '#', '#', '.']\n",
      "['#', '.', '#', '.', '.', '.', '#', '#']\n",
      "['.', '#', '#', '.', '.', '.', '#', '.']\n",
      "['.', '#', '.', '#', '.', '#', '#', '#']\n",
      "['#', '.', '#', '.', '#', '.', '.', '#']\n"
     ]
    }
   ],
   "source": [
    "fileName = 'input.txt'\n",
    "\n",
    "with open(fileName) as openFile:\n",
    "    cubeList = [[character for character in line.rstrip()] for line in openFile]\n",
    "\n",
    "for row in cubeList:\n",
    "    print(row)"
   ]
  },
  {
   "cell_type": "markdown",
   "metadata": {},
   "source": [
    "## PART 1"
   ]
  },
  {
   "cell_type": "code",
   "execution_count": 2,
   "metadata": {},
   "outputs": [],
   "source": [
    "def CubeIsActive(cubes, row, column, z):\n",
    "    cubesSideEdge = len(cubes) - 1\n",
    "    cubesZEdge = len(cubes[0][0]) - 1\n",
    "    isOutsideOfBorder = ((row < 0)\n",
    "                         or (row > cubesSideEdge)\n",
    "                         or (column < 0)\n",
    "                         or (column > cubesSideEdge)\n",
    "                         or (z < 0)\n",
    "                         or (z > cubesZEdge))\n",
    "    \n",
    "    if isOutsideOfBorder:\n",
    "        return False\n",
    "    \n",
    "    if cubes[row][column][z] == '#':\n",
    "        return True\n",
    "    else:\n",
    "        return False"
   ]
  },
  {
   "cell_type": "code",
   "execution_count": 3,
   "metadata": {},
   "outputs": [],
   "source": [
    "def NeighbourActiveCubes(cubes, row, column, height):\n",
    "    neighbourActiveCubes = 0\n",
    "    \n",
    "    for r in range(row-1, row+2):\n",
    "        for c in range(column-1, column+2):\n",
    "            for z in range(height-1, height+2):\n",
    "                if (r, c, z) == (row, column, height):\n",
    "                    continue\n",
    "                neighbourActiveCubes += CubeIsActive(cubes, r, c, z)\n",
    "\n",
    "    return neighbourActiveCubes"
   ]
  },
  {
   "cell_type": "code",
   "execution_count": 4,
   "metadata": {},
   "outputs": [],
   "source": [
    "def PrintCubeMatrix(cubes):\n",
    "    height = len(cubes[0][0])\n",
    "    size = len(cubes)\n",
    "    \n",
    "    for z in range(height):\n",
    "        print('z =', int(z - (height-1)/2))\n",
    "        print('\\n')\n",
    "    \n",
    "        for row in range(size):\n",
    "            for column in range(size):\n",
    "                print(cubes[row][column][z], end='\\t')\n",
    "            print('\\n')\n",
    "        \n",
    "        print('\\n')"
   ]
  },
  {
   "cell_type": "code",
   "execution_count": 5,
   "metadata": {},
   "outputs": [],
   "source": [
    "def AdvanceOneCycle(cubes):\n",
    "    currentZ = len(cubes[0][0])\n",
    "    currentSize = len(cubes)\n",
    "\n",
    "    newZ = currentZ + 2\n",
    "    newSize = currentSize + 2\n",
    "\n",
    "    newCubes = []\n",
    "\n",
    "    for row in range(newSize):\n",
    "        rowInOldMatrix = row - 1\n",
    "        columnList = []\n",
    "\n",
    "        for column in range(newSize):\n",
    "            columnInOldMatrix = column - 1\n",
    "            zList = []\n",
    "\n",
    "            for z in range(newZ):\n",
    "                zInOldMatrix = z - 1\n",
    "\n",
    "                if CubeIsActive(cubes, rowInOldMatrix, columnInOldMatrix, zInOldMatrix):\n",
    "                    if NeighbourActiveCubes(cubes, rowInOldMatrix, columnInOldMatrix, zInOldMatrix) in [2,3]:\n",
    "                        zList.append('#')\n",
    "                    else:\n",
    "                        zList.append('.')\n",
    "                else:\n",
    "                    if NeighbourActiveCubes(cubes, rowInOldMatrix, columnInOldMatrix, zInOldMatrix) == 3:\n",
    "                        zList.append('#')\n",
    "                    else:\n",
    "                        zList.append('.')\n",
    "\n",
    "            columnList.append(zList)\n",
    "        newCubes.append(columnList)\n",
    "\n",
    "    return newCubes "
   ]
  },
  {
   "cell_type": "code",
   "execution_count": 6,
   "metadata": {},
   "outputs": [],
   "source": [
    "## Advance for chosen number of cycles\n",
    "numberOfCycles = 6\n",
    "advancedCubeList = cubeList\n",
    "for cycle in range(numberOfCycles):\n",
    "    advancedCubeList = AdvanceOneCycle(advancedCubeList)"
   ]
  },
  {
   "cell_type": "code",
   "execution_count": 7,
   "metadata": {},
   "outputs": [
    {
     "name": "stdout",
     "output_type": "stream",
     "text": [
      "Number of active cubes after 6 cycles: 313\n"
     ]
    }
   ],
   "source": [
    "## We count the dumb way\n",
    "activeCubeCounter = 0\n",
    "\n",
    "for row in range(len(advancedCubeList)):\n",
    "    for column in range(len(advancedCubeList)):\n",
    "        for z in range(len(advancedCubeList[0][0])):\n",
    "            if advancedCubeList[row][column][z] == '#':\n",
    "                activeCubeCounter += 1\n",
    "\n",
    "print(\"Number of active cubes after\", numberOfCycles, \"cycles:\", activeCubeCounter)"
   ]
  },
  {
   "cell_type": "markdown",
   "metadata": {},
   "source": [
    "## PART 2"
   ]
  },
  {
   "cell_type": "code",
   "execution_count": 8,
   "metadata": {},
   "outputs": [],
   "source": [
    "def CubeIsActive4D(cubes, row, column, z, w):\n",
    "    cubesSideEdge = len(cubes) - 1\n",
    "    cubesZEdge = len(cubes[0][0]) - 1\n",
    "    cubesWEdge = len(cubes[0][0][0]) - 1\n",
    "    isOutsideOfBorder = ((row < 0)\n",
    "                         or (row > cubesSideEdge)\n",
    "                         or (column < 0)\n",
    "                         or (column > cubesSideEdge)\n",
    "                         or (z < 0)\n",
    "                         or (z > cubesZEdge)\n",
    "                         or (w < 0)\n",
    "                         or (w > cubesWEdge))\n",
    "    \n",
    "    if isOutsideOfBorder:\n",
    "        return False\n",
    "    \n",
    "    if cubes[row][column][z][w] == '#':\n",
    "        return True\n",
    "    else:\n",
    "        return False"
   ]
  },
  {
   "cell_type": "code",
   "execution_count": 9,
   "metadata": {},
   "outputs": [],
   "source": [
    "def NeighbourActiveCubes4D(cubes, row, column, third, fourth):\n",
    "    neighbourActiveCubes = 0\n",
    "    \n",
    "    for r in range(row-1, row+2):\n",
    "        for c in range(column-1, column+2):\n",
    "            for z in range(third-1, third+2):\n",
    "                for w in range(fourth-1, fourth+2):\n",
    "                    if (r, c, z, w) == (row, column, third, fourth):\n",
    "                        continue\n",
    "                    neighbourActiveCubes += CubeIsActive4D(cubes, r, c, z, w)\n",
    "\n",
    "    return neighbourActiveCubes"
   ]
  },
  {
   "cell_type": "code",
   "execution_count": 10,
   "metadata": {},
   "outputs": [],
   "source": [
    "def PrintCubeMatrix4D(cubes):\n",
    "    third = len(cubes[0][0])\n",
    "    fourth = len(cubes[0][0][0])\n",
    "    size = len(cubes)\n",
    "    \n",
    "    for z in range(third):\n",
    "        for w in range(fourth):\n",
    "            print('z =', int(z - (third-1)/2), ', w = ', int(w - (fourth-1)/2))\n",
    "            print('\\n')\n",
    "\n",
    "            for row in range(size):\n",
    "                for column in range(size):\n",
    "                    print(cubes[row][column][z][w], end='\\t')\n",
    "                print('\\n')\n",
    "\n",
    "            print('\\n')"
   ]
  },
  {
   "cell_type": "code",
   "execution_count": 11,
   "metadata": {},
   "outputs": [],
   "source": [
    "def AdvanceOneCycle4D(cubes):\n",
    "    currentZ = len(cubes[0][0])\n",
    "    currentW = len(cubes[0][0][0])\n",
    "    currentSize = len(cubes)\n",
    "\n",
    "    newZ = currentZ + 2\n",
    "    newW = currentW + 2\n",
    "    newSize = currentSize + 2\n",
    "\n",
    "    newCubes = []\n",
    "\n",
    "    for row in range(newSize):\n",
    "        rowInOldMatrix = row - 1\n",
    "        columnList = []\n",
    "\n",
    "        for column in range(newSize):\n",
    "            columnInOldMatrix = column - 1\n",
    "            zList = []\n",
    "\n",
    "            for z in range(newZ):\n",
    "                zInOldMatrix = z - 1\n",
    "                wList = []\n",
    "                \n",
    "                for w in range(newW):\n",
    "                    wInOldMatrix = w - 1\n",
    "\n",
    "                    if CubeIsActive4D(cubes, rowInOldMatrix, columnInOldMatrix, zInOldMatrix, wInOldMatrix):\n",
    "                        if NeighbourActiveCubes4D(cubes, rowInOldMatrix, columnInOldMatrix, zInOldMatrix, wInOldMatrix) in [2,3]:\n",
    "                            wList.append('#')\n",
    "                        else:\n",
    "                            wList.append('.')\n",
    "                    else:\n",
    "                        if NeighbourActiveCubes4D(cubes, rowInOldMatrix, columnInOldMatrix, zInOldMatrix, wInOldMatrix) == 3:\n",
    "                            wList.append('#')\n",
    "                        else:\n",
    "                            wList.append('.')\n",
    "                            \n",
    "                zList.append(wList)\n",
    "            columnList.append(zList)\n",
    "        newCubes.append(columnList)\n",
    "\n",
    "    return newCubes "
   ]
  },
  {
   "cell_type": "code",
   "execution_count": 12,
   "metadata": {},
   "outputs": [],
   "source": [
    "## Advance for chosen number of cycles... in 4D\n",
    "numberOfCycles4D = 6\n",
    "advancedCubeList4D = cubeList\n",
    "for cycle in range(numberOfCycles4D):\n",
    "    advancedCubeList4D = AdvanceOneCycle4D(advancedCubeList4D)"
   ]
  },
  {
   "cell_type": "code",
   "execution_count": 13,
   "metadata": {},
   "outputs": [
    {
     "name": "stdout",
     "output_type": "stream",
     "text": [
      "Number of active hypercubes after 6 cycles: 2640\n"
     ]
    }
   ],
   "source": [
    "## We count (again) the dumb way\n",
    "activeCubeCounter4D = 0\n",
    "\n",
    "for row in range(len(advancedCubeList4D)):\n",
    "    for column in range(len(advancedCubeList4D)):\n",
    "        for z in range(len(advancedCubeList4D[0][0])):\n",
    "            for w in range(len(advancedCubeList4D[0][0][0])):\n",
    "                if advancedCubeList4D[row][column][z][w] == '#':\n",
    "                    activeCubeCounter4D += 1\n",
    "\n",
    "print(\"Number of active hypercubes after\", numberOfCycles4D, \"cycles:\", activeCubeCounter4D)"
   ]
  }
 ],
 "metadata": {
  "kernelspec": {
   "display_name": "Python 3",
   "language": "python",
   "name": "python3"
  },
  "language_info": {
   "codemirror_mode": {
    "name": "ipython",
    "version": 3
   },
   "file_extension": ".py",
   "mimetype": "text/x-python",
   "name": "python",
   "nbconvert_exporter": "python",
   "pygments_lexer": "ipython3",
   "version": "3.8.5"
  }
 },
 "nbformat": 4,
 "nbformat_minor": 4
}
