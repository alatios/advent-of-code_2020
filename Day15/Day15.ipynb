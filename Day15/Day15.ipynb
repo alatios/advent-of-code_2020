{
 "cells": [
  {
   "cell_type": "code",
   "execution_count": 1,
   "metadata": {},
   "outputs": [],
   "source": [
    "import numpy as np\n",
    "import time"
   ]
  },
  {
   "cell_type": "markdown",
   "metadata": {},
   "source": [
    "## READ THE DATA"
   ]
  },
  {
   "cell_type": "code",
   "execution_count": 2,
   "metadata": {},
   "outputs": [
    {
     "name": "stdout",
     "output_type": "stream",
     "text": [
      "[ 2  0  6 12  1  3]\n"
     ]
    }
   ],
   "source": [
    "fileName = 'input.txt'\n",
    "numberArray = np.loadtxt(fileName, dtype=int, delimiter=',')\n",
    "print(numberArray)"
   ]
  },
  {
   "cell_type": "markdown",
   "metadata": {},
   "source": [
    "## PART 1"
   ]
  },
  {
   "cell_type": "code",
   "execution_count": 3,
   "metadata": {},
   "outputs": [],
   "source": [
    "def FindSpokenNumberAtTurn(numbers, turnOfInterest):\n",
    "    lastTurnNumberDictionary = {}\n",
    "    for i in range(len(numbers)-1):\n",
    "        lastTurnNumberDictionary[numbers[i]] = i+1\n",
    "    \n",
    "    lastSpokenNumber = numbers[-1]\n",
    "\n",
    "    ## Start at turn 4, go up to turn of interest\n",
    "    for turn in range(len(numbers)+1,turnOfInterest+1):\n",
    "        previousTurn = turn - 1\n",
    "        if lastSpokenNumber in lastTurnNumberDictionary.keys():\n",
    "            newSpokenNumber = previousTurn-lastTurnNumberDictionary[lastSpokenNumber]\n",
    "        else:\n",
    "            newSpokenNumber = 0\n",
    "        lastTurnNumberDictionary[lastSpokenNumber] = previousTurn\n",
    "        lastSpokenNumber = newSpokenNumber\n",
    "    \n",
    "    return lastSpokenNumber"
   ]
  },
  {
   "cell_type": "code",
   "execution_count": 4,
   "metadata": {},
   "outputs": [
    {
     "name": "stdout",
     "output_type": "stream",
     "text": [
      "The 2020th spoken number was: 1428\n",
      "Number found in 0.0013 seconds.\n"
     ]
    }
   ],
   "source": [
    "tic = time.perf_counter()\n",
    "print(\"The 2020th spoken number was:\", FindSpokenNumberAtTurn(numberArray, 2020))\n",
    "toc = time.perf_counter()\n",
    "print(f\"Number found in {toc - tic:0.4f} seconds.\")"
   ]
  },
  {
   "cell_type": "markdown",
   "metadata": {},
   "source": [
    "## PART 2"
   ]
  },
  {
   "cell_type": "code",
   "execution_count": 5,
   "metadata": {},
   "outputs": [
    {
     "name": "stdout",
     "output_type": "stream",
     "text": [
      "The 30000000th spoken number was: 3718541\n",
      "Number found in 17.9861 seconds.\n"
     ]
    }
   ],
   "source": [
    "tic = time.perf_counter()\n",
    "print(\"The 30000000th spoken number was:\", FindSpokenNumberAtTurn(numberArray, 30000000))\n",
    "toc = time.perf_counter()\n",
    "print(f\"Number found in {toc - tic:0.4f} seconds.\")"
   ]
  }
 ],
 "metadata": {
  "kernelspec": {
   "display_name": "Python 3",
   "language": "python",
   "name": "python3"
  },
  "language_info": {
   "codemirror_mode": {
    "name": "ipython",
    "version": 3
   },
   "file_extension": ".py",
   "mimetype": "text/x-python",
   "name": "python",
   "nbconvert_exporter": "python",
   "pygments_lexer": "ipython3",
   "version": "3.8.5"
  }
 },
 "nbformat": 4,
 "nbformat_minor": 4
}
