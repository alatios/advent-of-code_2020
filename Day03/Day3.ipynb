{
 "cells": [
  {
   "cell_type": "code",
   "execution_count": 8,
   "metadata": {},
   "outputs": [],
   "source": [
    "import numpy as np\n",
    "import pandas as pd"
   ]
  },
  {
   "cell_type": "code",
   "execution_count": 31,
   "metadata": {},
   "outputs": [],
   "source": [
    "inputData = pd.read_csv('input.txt', sep=\"\", header=None,engine='python')\n",
    "inputData.drop(0, inplace=True, axis=1)\n",
    "inputData.drop(32, inplace=True, axis=1)\n",
    "treeMatrix = inputData.to_numpy()"
   ]
  },
  {
   "cell_type": "code",
   "execution_count": 167,
   "metadata": {},
   "outputs": [],
   "source": [
    "## ERROR CODE DEFINITIONS\n",
    "## (-1, -1) means invalid position\n",
    "## (-2, -2) means you've reached an edge and can no longer move\n",
    "\n",
    "def GetNumberOfColumns(matrix):\n",
    "    return matrix.shape[1]\n",
    "\n",
    "def GetNumberOfRows(matrix):\n",
    "    return matrix.shape[0]\n",
    "\n",
    "def GetMatrixElement(matrix, x, y):\n",
    "    return matrix[y,x]\n",
    "\n",
    "def CheckForValidPosition(matrix, xCurrent, yCurrent):\n",
    "    errorBoolean = False\n",
    "    if (xCurrent >= GetNumberOfColumns(matrix)):\n",
    "        errorBoolean = True\n",
    "    if (xCurrent < 0):\n",
    "        errorBoolean = True\n",
    "    if (yCurrent < 0):\n",
    "        errorBoolean = True\n",
    "    if (yCurrent  >= GetNumberOfRows(matrix)):\n",
    "        errorBoolean = True \n",
    "    return errorBoolean\n",
    "\n",
    "def CheckForEdgeOfMatrix(matrix, xCurrent, yCurrent):\n",
    "    if ((xCurrent == -2) and (yCurrent == -2)):\n",
    "        return True\n",
    "    else:\n",
    "        return False\n",
    "\n",
    "def MoveDown(matrix, xCurrent, yCurrent):\n",
    "    if (CheckForEdgeOfMatrix(matrix,xCurrent, yCurrent)):\n",
    "        return (-2,-2)\n",
    "    if (CheckForValidPosition(matrix, xCurrent, yCurrent)):\n",
    "        return (-1,-1)\n",
    "    if (yCurrent == GetNumberOfRows(matrix) - 1):\n",
    "        return (-2, -2)\n",
    "    else:\n",
    "        return (xCurrent, yCurrent + 1)\n",
    "\n",
    "def MoveUp(matrix, xCurrent, yCurrent):\n",
    "    if (CheckForEdgeOfMatrix(matrix,xCurrent, yCurrent)):\n",
    "        return (-2,-2)\n",
    "    if (CheckForValidPosition(matrix, xCurrent, yCurrent)):\n",
    "        return (-1,-1)\n",
    "    if (yCurrent == 0):\n",
    "        return (-2, -2)\n",
    "    else:\n",
    "        return (xCurrent, yCurrent - 1)\n",
    "\n",
    "def MoveLeft(matrix, xCurrent, yCurrent):\n",
    "    if (CheckForEdgeOfMatrix(matrix,xCurrent, yCurrent)):\n",
    "        return (-2,-2)\n",
    "    if (CheckForValidPosition(matrix, xCurrent, yCurrent)):\n",
    "        return (-1,-1)\n",
    "    if (xCurrent == 0):\n",
    "        return (-2, -2)\n",
    "    else:\n",
    "        return (xCurrent - 1, yCurrent)\n",
    "    \n",
    "def MoveRight(matrix, xCurrent, yCurrent):\n",
    "    if (CheckForValidPosition(matrix, xCurrent, yCurrent)):\n",
    "        return (-1,-1)\n",
    "    if (CheckForEdgeOfMatrix(matrix,xCurrent, yCurrent)):\n",
    "        return (-2,-2)\n",
    "    if (xCurrent == GetNumberOfColumns(matrix) - 1):\n",
    "        return (0, yCurrent)\n",
    "    else:\n",
    "        return (xCurrent + 1, yCurrent)"
   ]
  },
  {
   "cell_type": "code",
   "execution_count": 169,
   "metadata": {},
   "outputs": [
    {
     "data": {
      "text/plain": [
       "198"
      ]
     },
     "execution_count": 169,
     "metadata": {},
     "output_type": "execute_result"
    }
   ],
   "source": [
    "position = (0,0)\n",
    "treeCounterRRD = 0\n",
    "\n",
    "while ((position != (-2,-2))):\n",
    "    if(GetMatrixElement(treeMatrix,*position) == '#'):\n",
    "        treeCounterRRD += 1\n",
    "    \n",
    "    position = MoveRight(treeMatrix,*position)\n",
    "    position = MoveRight(treeMatrix,*position)\n",
    "    position = MoveRight(treeMatrix,*position)\n",
    "    position = MoveDown(treeMatrix,*position)\n",
    "    #print(position)\n",
    "    \n",
    "\n",
    "treeCounterRRD"
   ]
  },
  {
   "cell_type": "code",
   "execution_count": 170,
   "metadata": {},
   "outputs": [
    {
     "data": {
      "text/plain": [
       "84"
      ]
     },
     "execution_count": 170,
     "metadata": {},
     "output_type": "execute_result"
    }
   ],
   "source": [
    "position = (0,0)\n",
    "treeCounterRD = 0\n",
    "\n",
    "while ((position != (-2,-2))):\n",
    "    if(GetMatrixElement(treeMatrix,*position) == '#'):\n",
    "        treeCounterRD += 1\n",
    "    \n",
    "    position = MoveRight(treeMatrix,*position)\n",
    "    position = MoveDown(treeMatrix,*position)\n",
    "    #print(position)\n",
    "    \n",
    "\n",
    "treeCounterRD"
   ]
  },
  {
   "cell_type": "code",
   "execution_count": 171,
   "metadata": {},
   "outputs": [
    {
     "data": {
      "text/plain": [
       "72"
      ]
     },
     "execution_count": 171,
     "metadata": {},
     "output_type": "execute_result"
    }
   ],
   "source": [
    "position = (0,0)\n",
    "treeCounterR5D = 0\n",
    "\n",
    "while ((position != (-2,-2))):\n",
    "    if(GetMatrixElement(treeMatrix,*position) == '#'):\n",
    "        treeCounterR5D += 1\n",
    "    \n",
    "    position = MoveRight(treeMatrix,*position)\n",
    "    position = MoveRight(treeMatrix,*position)\n",
    "    position = MoveRight(treeMatrix,*position)\n",
    "    position = MoveRight(treeMatrix,*position)\n",
    "    position = MoveRight(treeMatrix,*position)\n",
    "    position = MoveDown(treeMatrix,*position)\n",
    "    #print(position)\n",
    "    \n",
    "\n",
    "treeCounterR5D"
   ]
  },
  {
   "cell_type": "code",
   "execution_count": 172,
   "metadata": {},
   "outputs": [
    {
     "data": {
      "text/plain": [
       "81"
      ]
     },
     "execution_count": 172,
     "metadata": {},
     "output_type": "execute_result"
    }
   ],
   "source": [
    "position = (0,0)\n",
    "treeCounterR7D = 0\n",
    "\n",
    "while ((position != (-2,-2))):\n",
    "    if(GetMatrixElement(treeMatrix,*position) == '#'):\n",
    "        treeCounterR7D += 1\n",
    "    \n",
    "    position = MoveRight(treeMatrix,*position)\n",
    "    position = MoveRight(treeMatrix,*position)\n",
    "    position = MoveRight(treeMatrix,*position)\n",
    "    position = MoveRight(treeMatrix,*position)\n",
    "    position = MoveRight(treeMatrix,*position)\n",
    "    position = MoveRight(treeMatrix,*position)\n",
    "    position = MoveRight(treeMatrix,*position)\n",
    "    position = MoveDown(treeMatrix,*position)\n",
    "    #print(position)\n",
    "    \n",
    "\n",
    "treeCounterR7D"
   ]
  },
  {
   "cell_type": "code",
   "execution_count": 173,
   "metadata": {},
   "outputs": [
    {
     "data": {
      "text/plain": [
       "53"
      ]
     },
     "execution_count": 173,
     "metadata": {},
     "output_type": "execute_result"
    }
   ],
   "source": [
    "position = (0,0)\n",
    "treeCounterRDD = 0\n",
    "\n",
    "while ((position != (-2,-2))):\n",
    "    if(GetMatrixElement(treeMatrix,*position) == '#'):\n",
    "        treeCounterRDD += 1\n",
    "    \n",
    "    position = MoveRight(treeMatrix,*position)\n",
    "    position = MoveDown(treeMatrix,*position)\n",
    "    position = MoveDown(treeMatrix,*position)\n",
    "    #print(position)\n",
    "    \n",
    "\n",
    "treeCounterRDD"
   ]
  },
  {
   "cell_type": "code",
   "execution_count": 174,
   "metadata": {},
   "outputs": [
    {
     "data": {
      "text/plain": [
       "5140884672"
      ]
     },
     "execution_count": 174,
     "metadata": {},
     "output_type": "execute_result"
    }
   ],
   "source": [
    "treeCounterRRD * treeCounterRD * treeCounterR5D * treeCounterR7D * treeCounterRDD"
   ]
  },
  {
   "cell_type": "code",
   "execution_count": null,
   "metadata": {},
   "outputs": [],
   "source": []
  }
 ],
 "metadata": {
  "kernelspec": {
   "display_name": "Python 3",
   "language": "python",
   "name": "python3"
  },
  "language_info": {
   "codemirror_mode": {
    "name": "ipython",
    "version": 3
   },
   "file_extension": ".py",
   "mimetype": "text/x-python",
   "name": "python",
   "nbconvert_exporter": "python",
   "pygments_lexer": "ipython3",
   "version": "3.7.6"
  }
 },
 "nbformat": 4,
 "nbformat_minor": 4
}
