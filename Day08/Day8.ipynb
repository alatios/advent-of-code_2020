{
 "cells": [
  {
   "cell_type": "code",
   "execution_count": 1,
   "metadata": {},
   "outputs": [],
   "source": [
    "import numpy as np\n",
    "import pandas as pd"
   ]
  },
  {
   "cell_type": "markdown",
   "metadata": {},
   "source": [
    "## READ THE DATA"
   ]
  },
  {
   "cell_type": "code",
   "execution_count": 2,
   "metadata": {},
   "outputs": [],
   "source": [
    "fileToOpen = 'input.txt'\n",
    "columns = ['inst', 'value', 'read']"
   ]
  },
  {
   "cell_type": "code",
   "execution_count": 3,
   "metadata": {},
   "outputs": [
    {
     "data": {
      "text/html": [
       "<div>\n",
       "<style scoped>\n",
       "    .dataframe tbody tr th:only-of-type {\n",
       "        vertical-align: middle;\n",
       "    }\n",
       "\n",
       "    .dataframe tbody tr th {\n",
       "        vertical-align: top;\n",
       "    }\n",
       "\n",
       "    .dataframe thead th {\n",
       "        text-align: right;\n",
       "    }\n",
       "</style>\n",
       "<table border=\"1\" class=\"dataframe\">\n",
       "  <thead>\n",
       "    <tr style=\"text-align: right;\">\n",
       "      <th></th>\n",
       "      <th>inst</th>\n",
       "      <th>value</th>\n",
       "      <th>read</th>\n",
       "    </tr>\n",
       "  </thead>\n",
       "  <tbody>\n",
       "    <tr>\n",
       "      <th>0</th>\n",
       "      <td>jmp</td>\n",
       "      <td>+248</td>\n",
       "      <td>False</td>\n",
       "    </tr>\n",
       "    <tr>\n",
       "      <th>1</th>\n",
       "      <td>acc</td>\n",
       "      <td>+11</td>\n",
       "      <td>False</td>\n",
       "    </tr>\n",
       "    <tr>\n",
       "      <th>2</th>\n",
       "      <td>acc</td>\n",
       "      <td>+50</td>\n",
       "      <td>False</td>\n",
       "    </tr>\n",
       "    <tr>\n",
       "      <th>3</th>\n",
       "      <td>acc</td>\n",
       "      <td>+44</td>\n",
       "      <td>False</td>\n",
       "    </tr>\n",
       "    <tr>\n",
       "      <th>4</th>\n",
       "      <td>jmp</td>\n",
       "      <td>+531</td>\n",
       "      <td>False</td>\n",
       "    </tr>\n",
       "    <tr>\n",
       "      <th>...</th>\n",
       "      <td>...</td>\n",
       "      <td>...</td>\n",
       "      <td>...</td>\n",
       "    </tr>\n",
       "    <tr>\n",
       "      <th>632</th>\n",
       "      <td>acc</td>\n",
       "      <td>-12</td>\n",
       "      <td>False</td>\n",
       "    </tr>\n",
       "    <tr>\n",
       "      <th>633</th>\n",
       "      <td>acc</td>\n",
       "      <td>+40</td>\n",
       "      <td>False</td>\n",
       "    </tr>\n",
       "    <tr>\n",
       "      <th>634</th>\n",
       "      <td>jmp</td>\n",
       "      <td>+1</td>\n",
       "      <td>False</td>\n",
       "    </tr>\n",
       "    <tr>\n",
       "      <th>635</th>\n",
       "      <td>acc</td>\n",
       "      <td>+15</td>\n",
       "      <td>False</td>\n",
       "    </tr>\n",
       "    <tr>\n",
       "      <th>636</th>\n",
       "      <td>jmp</td>\n",
       "      <td>+1</td>\n",
       "      <td>False</td>\n",
       "    </tr>\n",
       "  </tbody>\n",
       "</table>\n",
       "<p>637 rows × 3 columns</p>\n",
       "</div>"
      ],
      "text/plain": [
       "    inst value   read\n",
       "0    jmp  +248  False\n",
       "1    acc   +11  False\n",
       "2    acc   +50  False\n",
       "3    acc   +44  False\n",
       "4    jmp  +531  False\n",
       "..   ...   ...    ...\n",
       "632  acc   -12  False\n",
       "633  acc   +40  False\n",
       "634  jmp    +1  False\n",
       "635  acc   +15  False\n",
       "636  jmp    +1  False\n",
       "\n",
       "[637 rows x 3 columns]"
      ]
     },
     "execution_count": 3,
     "metadata": {},
     "output_type": "execute_result"
    }
   ],
   "source": [
    "instData = pd.DataFrame(columns=columns)\n",
    "\n",
    "with open(fileToOpen) as openFileObject:\n",
    "    for line in openFileObject:\n",
    "        inst, value = line.rstrip().split(\" \")\n",
    "        instData = instData.append({'inst': inst, 'value': value, 'read': False}, ignore_index=True)\n",
    "\n",
    "instData"
   ]
  },
  {
   "cell_type": "markdown",
   "metadata": {},
   "source": [
    "## PART 1"
   ]
  },
  {
   "cell_type": "code",
   "execution_count": 4,
   "metadata": {},
   "outputs": [],
   "source": [
    "def ResetReadState(dataFrame):\n",
    "    dataFrame[\"read\"].replace({True: False}, inplace=True)"
   ]
  },
  {
   "cell_type": "code",
   "execution_count": 5,
   "metadata": {},
   "outputs": [
    {
     "data": {
      "text/plain": [
       "2003"
      ]
     },
     "execution_count": 5,
     "metadata": {},
     "output_type": "execute_result"
    }
   ],
   "source": [
    "ResetReadState(instData)\n",
    "\n",
    "index = 0\n",
    "acc = 0\n",
    "\n",
    "while True:\n",
    "    if instData.loc[index, 'read'] == True:\n",
    "        break\n",
    "    else:\n",
    "        instData.loc[index, 'read'] = True\n",
    "    \n",
    "    if instData.loc[index, 'inst'] == 'nop':\n",
    "        index +=1\n",
    "    elif instData.loc[index, 'inst'] == 'acc':\n",
    "        acc += int(instData.loc[index, 'value'])\n",
    "        index += 1\n",
    "    elif instData.loc[index, 'inst'] == 'jmp':\n",
    "        index += int(instData.loc[index, 'value'])\n",
    "    else:\n",
    "        print(\"ERROR: instruction\", instData.loc[0, 'inst'], \"not recognized.\")\n",
    "        break\n",
    "\n",
    "acc"
   ]
  },
  {
   "cell_type": "markdown",
   "metadata": {},
   "source": [
    "## PART 2"
   ]
  },
  {
   "cell_type": "code",
   "execution_count": 6,
   "metadata": {},
   "outputs": [
    {
     "name": "stdout",
     "output_type": "stream",
     "text": [
      "1984\n"
     ]
    }
   ],
   "source": [
    "ResetReadState(instData)\n",
    "foundCorrectChange = False\n",
    "\n",
    "for indexToChange in list(instData.index.values):\n",
    "    instDataCopy = instData.copy()\n",
    "        \n",
    "    if instDataCopy.loc[indexToChange, 'inst'] == 'nop':\n",
    "        instDataCopy.loc[indexToChange, 'inst'] = 'jmp'\n",
    "    elif instDataCopy.loc[indexToChange, 'inst'] == 'jmp':\n",
    "        instDataCopy.loc[indexToChange, 'inst'] = 'nop'\n",
    "\n",
    "    index = 0\n",
    "    acc = 0\n",
    "\n",
    "    while True:\n",
    "        if index not in list(instDataCopy.index.values):\n",
    "            foundCorrectChange = True\n",
    "            break\n",
    "\n",
    "        if instDataCopy.loc[index, 'read'] == True:\n",
    "            break\n",
    "        else:\n",
    "            instDataCopy.loc[index, 'read'] = True\n",
    "\n",
    "        if instDataCopy.loc[index, 'inst'] == 'nop':\n",
    "            index +=1\n",
    "        elif instDataCopy.loc[index, 'inst'] == 'acc':\n",
    "            acc += int(instDataCopy.loc[index, 'value'])\n",
    "            index += 1\n",
    "        elif instDataCopy.loc[index, 'inst'] == 'jmp':\n",
    "            index += int(instDataCopy.loc[index, 'value'])\n",
    "        else:\n",
    "            print(\"ERROR: instruction\", instDataCopy.loc[0, 'inst'], \"not recognized.\")\n",
    "            break\n",
    "    \n",
    "    if foundCorrectChange:\n",
    "        break\n",
    "\n",
    "if foundCorrectChange:\n",
    "    print(acc)\n",
    "else:\n",
    "    print(\"ERROR: could not find change that would fix the loop.\")"
   ]
  },
  {
   "cell_type": "code",
   "execution_count": null,
   "metadata": {},
   "outputs": [],
   "source": []
  }
 ],
 "metadata": {
  "kernelspec": {
   "display_name": "Python 3",
   "language": "python",
   "name": "python3"
  },
  "language_info": {
   "codemirror_mode": {
    "name": "ipython",
    "version": 3
   },
   "file_extension": ".py",
   "mimetype": "text/x-python",
   "name": "python",
   "nbconvert_exporter": "python",
   "pygments_lexer": "ipython3",
   "version": "3.8.5"
  }
 },
 "nbformat": 4,
 "nbformat_minor": 4
}
