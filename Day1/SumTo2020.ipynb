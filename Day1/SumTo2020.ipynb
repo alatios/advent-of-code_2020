{
 "cells": [
  {
   "cell_type": "code",
   "execution_count": 19,
   "metadata": {},
   "outputs": [],
   "source": [
    "import numpy as np"
   ]
  },
  {
   "cell_type": "code",
   "execution_count": 47,
   "metadata": {},
   "outputs": [],
   "source": [
    "def DoesItSumTo2020(firstNumber, secondNumber):\n",
    "    if (firstNumber + secondNumber == 2020):\n",
    "        return True\n",
    "    else:\n",
    "        return False\n",
    "\n",
    "def FindSumTo2020(numpyArray):\n",
    "    for i in range(numpyArray.shape[0]):\n",
    "        for j in range(i, numpyArray.shape[0]):\n",
    "            if DoesItSumTo2020(numpyArray[i],numpyArray[j]):\n",
    "                return (numpyArray[i], numpyArray[j], numpyArray[i]+numpyArray[j], numpyArray[i]*numpyArray[j])"
   ]
  },
  {
   "cell_type": "code",
   "execution_count": 48,
   "metadata": {},
   "outputs": [
    {
     "name": "stdout",
     "output_type": "stream",
     "text": [
      "False\n",
      "True\n"
     ]
    }
   ],
   "source": [
    "print(DoesItSumTo2020(3,2))\n",
    "print(DoesItSumTo2020(2019,1))"
   ]
  },
  {
   "cell_type": "code",
   "execution_count": 49,
   "metadata": {},
   "outputs": [
    {
     "name": "stdout",
     "output_type": "stream",
     "text": [
      "2\n",
      "4000\n",
      "502\n",
      "2019\n",
      "3\n",
      "1\n"
     ]
    },
    {
     "data": {
      "text/plain": [
       "(2019, 1, 2020, 2019)"
      ]
     },
     "execution_count": 49,
     "metadata": {},
     "output_type": "execute_result"
    }
   ],
   "source": [
    "a = np.array([2,4000,502,2019,3,1])\n",
    "\n",
    "for i in range(a.shape[0]):\n",
    "    print(a[i])\n",
    "\n",
    "FindSumTo2020(a)"
   ]
  },
  {
   "cell_type": "code",
   "execution_count": 41,
   "metadata": {},
   "outputs": [
    {
     "name": "stdout",
     "output_type": "stream",
     "text": [
      "range(7, 6)\n"
     ]
    }
   ],
   "source": [
    "a.shape[0]\n",
    "print(range(7,a.shape[0]))"
   ]
  },
  {
   "cell_type": "code",
   "execution_count": 52,
   "metadata": {},
   "outputs": [],
   "source": [
    "numbersArray = np.loadtxt(\"input.txt\", dtype=int)"
   ]
  },
  {
   "cell_type": "code",
   "execution_count": 54,
   "metadata": {},
   "outputs": [
    {
     "data": {
      "text/plain": [
       "(618, 1402, 2020, 866436)"
      ]
     },
     "execution_count": 54,
     "metadata": {},
     "output_type": "execute_result"
    }
   ],
   "source": [
    "FindSumTo2020(numbersArray)"
   ]
  },
  {
   "cell_type": "code",
   "execution_count": 56,
   "metadata": {},
   "outputs": [],
   "source": [
    "def DoTheThreeSumTo2020(firstNumber, secondNumber, thirdNumber):\n",
    "    if (firstNumber + secondNumber + thirdNumber == 2020):\n",
    "        return True\n",
    "    else:\n",
    "        return False\n",
    "\n",
    "def FindThreeSumsTo2020(numpyArray):\n",
    "    for i in range(numpyArray.shape[0]):\n",
    "        for j in range(i, numpyArray.shape[0]):\n",
    "            for k in range(j, numpyArray.shape[0]):\n",
    "                if DoTheThreeSumTo2020(numpyArray[i],numpyArray[j],numpyArray[k]):\n",
    "                    return (numpyArray[i], numpyArray[j], numpyArray[k], numpyArray[i]+numpyArray[j]+numpyArray[k], numpyArray[i]*numpyArray[j]*numpyArray[k])"
   ]
  },
  {
   "cell_type": "code",
   "execution_count": 57,
   "metadata": {},
   "outputs": [
    {
     "data": {
      "text/plain": [
       "(928, 547, 545, 2020, 276650720)"
      ]
     },
     "execution_count": 57,
     "metadata": {},
     "output_type": "execute_result"
    }
   ],
   "source": [
    "FindThreeSumsTo2020(numbersArray)"
   ]
  },
  {
   "cell_type": "code",
   "execution_count": null,
   "metadata": {},
   "outputs": [],
   "source": []
  }
 ],
 "metadata": {
  "kernelspec": {
   "display_name": "Python 3",
   "language": "python",
   "name": "python3"
  },
  "language_info": {
   "codemirror_mode": {
    "name": "ipython",
    "version": 3
   },
   "file_extension": ".py",
   "mimetype": "text/x-python",
   "name": "python",
   "nbconvert_exporter": "python",
   "pygments_lexer": "ipython3",
   "version": "3.8.5"
  }
 },
 "nbformat": 4,
 "nbformat_minor": 4
}
