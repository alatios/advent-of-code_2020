{
 "cells": [
  {
   "cell_type": "code",
   "execution_count": 1,
   "metadata": {},
   "outputs": [],
   "source": [
    "import numpy as np\n",
    "import pandas as pd"
   ]
  },
  {
   "cell_type": "code",
   "execution_count": 56,
   "metadata": {},
   "outputs": [],
   "source": [
    "def BisectRows(frontRow, backRow, character):\n",
    "    if character == 'F':\n",
    "        return (frontRow, frontRow + int((backRow-frontRow)/2))\n",
    "    elif character == 'B':\n",
    "        return (frontRow + int((backRow-frontRow)/2) + 1, backRow)\n",
    "    else:\n",
    "        print(\"ERROR: couldn't read character\", character)\n",
    "        return (-1000,-1000)\n",
    "\n",
    "def BisectColumns(leftColumn, rightColumn, character):\n",
    "    if character == 'L':\n",
    "        return (leftColumn, leftColumn + int((rightColumn-leftColumn)/2))\n",
    "    elif character == 'R':\n",
    "        return (leftColumn + int((rightColumn-leftColumn)/2) + 1, rightColumn)\n",
    "    else:\n",
    "        print(\"ERROR: couldn't read character\", character)\n",
    "        return (-2000,-2000)"
   ]
  },
  {
   "cell_type": "code",
   "execution_count": 39,
   "metadata": {},
   "outputs": [
    {
     "name": "stdout",
     "output_type": "stream",
     "text": [
      "(44, 44)\n"
     ]
    }
   ],
   "source": [
    "print(BisectRows(44,45,'F'))"
   ]
  },
  {
   "cell_type": "code",
   "execution_count": 40,
   "metadata": {},
   "outputs": [
    {
     "name": "stdout",
     "output_type": "stream",
     "text": [
      "(5, 5)\n"
     ]
    }
   ],
   "source": [
    "print(BisectColumns(4,5,'R'))"
   ]
  },
  {
   "cell_type": "code",
   "execution_count": 67,
   "metadata": {},
   "outputs": [],
   "source": [
    "def ProcessPartitioning(string):\n",
    "    frontRow = 0\n",
    "    backRow = 127\n",
    "    leftColumn = 0\n",
    "    rightColumn = 7\n",
    "    \n",
    "    for charIterator in 0, 1, 2, 3, 4, 5, 6:\n",
    "        frontRow, backRow = BisectRows(frontRow, backRow, string[charIterator])\n",
    "    \n",
    "    for charIterator in 7, 8, 9:\n",
    "        leftColumn, rightColumn = BisectColumns(leftColumn, rightColumn, string[charIterator])\n",
    "        \n",
    "    if frontRow != backRow:\n",
    "        print(\"ERROR: couldn't parse row split of string\", string)\n",
    "        return (-300,-300)\n",
    "    elif leftColumn != rightColumn:\n",
    "        print(\"ERROR: couldn't parse column split of string\", string)\n",
    "        return (-400,-400)\n",
    "    else:\n",
    "        return (frontRow, leftColumn)\n",
    "\n",
    "def EvaluateSeatID(row, column):\n",
    "    return row * 8 + column"
   ]
  },
  {
   "cell_type": "code",
   "execution_count": 70,
   "metadata": {},
   "outputs": [
    {
     "data": {
      "text/plain": [
       "567"
      ]
     },
     "execution_count": 70,
     "metadata": {},
     "output_type": "execute_result"
    }
   ],
   "source": [
    "st = 'BFFFBBFRRR'\n",
    "ProcessPartitioning(st)\n",
    "EvaluateSeatID(*ProcessPartitioning(st))"
   ]
  },
  {
   "cell_type": "code",
   "execution_count": 85,
   "metadata": {},
   "outputs": [
    {
     "data": {
      "text/plain": [
       "927"
      ]
     },
     "execution_count": 85,
     "metadata": {},
     "output_type": "execute_result"
    }
   ],
   "source": [
    "with open('input.txt') as inFile:\n",
    "    lines = [line.rstrip() for line in inFile]\n",
    "\n",
    "len(lines)"
   ]
  },
  {
   "cell_type": "code",
   "execution_count": 93,
   "metadata": {},
   "outputs": [
    {
     "name": "stdout",
     "output_type": "stream",
     "text": [
      "933\n"
     ]
    }
   ],
   "source": [
    "maxID = -1\n",
    "IDs = []\n",
    "\n",
    "for line in lines:\n",
    "    lineID = EvaluateSeatID(*ProcessPartitioning(line))\n",
    "    IDs.append(lineID)\n",
    "    if lineID > maxID:\n",
    "            maxID = lineID\n",
    "\n",
    "print(maxID)"
   ]
  },
  {
   "cell_type": "code",
   "execution_count": 98,
   "metadata": {},
   "outputs": [
    {
     "name": "stdout",
     "output_type": "stream",
     "text": [
      "ID found! Between 710 and 712\n"
     ]
    }
   ],
   "source": [
    "IDs.sort()\n",
    "for IDIterator in range(len(IDs)):\n",
    "    if IDIterator != 0:\n",
    "        if (IDs[IDIterator] != (IDs[IDIterator-1] + 1)):\n",
    "            print(\"ID found! Between\", IDs[IDIterator-1], \"and\", IDs[IDIterator])"
   ]
  },
  {
   "cell_type": "code",
   "execution_count": null,
   "metadata": {},
   "outputs": [],
   "source": []
  }
 ],
 "metadata": {
  "kernelspec": {
   "display_name": "Python 3",
   "language": "python",
   "name": "python3"
  },
  "language_info": {
   "codemirror_mode": {
    "name": "ipython",
    "version": 3
   },
   "file_extension": ".py",
   "mimetype": "text/x-python",
   "name": "python",
   "nbconvert_exporter": "python",
   "pygments_lexer": "ipython3",
   "version": "3.8.5"
  }
 },
 "nbformat": 4,
 "nbformat_minor": 4
}
