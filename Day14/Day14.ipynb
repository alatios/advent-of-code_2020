{
 "cells": [
  {
   "cell_type": "code",
   "execution_count": 1,
   "metadata": {},
   "outputs": [],
   "source": [
    "import numpy as np\n",
    "import pandas as pd\n",
    "import re"
   ]
  },
  {
   "cell_type": "markdown",
   "metadata": {},
   "source": [
    "## READ THE DATA"
   ]
  },
  {
   "cell_type": "code",
   "execution_count": 2,
   "metadata": {},
   "outputs": [
    {
     "data": {
      "text/html": [
       "<div>\n",
       "<style scoped>\n",
       "    .dataframe tbody tr th:only-of-type {\n",
       "        vertical-align: middle;\n",
       "    }\n",
       "\n",
       "    .dataframe tbody tr th {\n",
       "        vertical-align: top;\n",
       "    }\n",
       "\n",
       "    .dataframe thead th {\n",
       "        text-align: right;\n",
       "    }\n",
       "</style>\n",
       "<table border=\"1\" class=\"dataframe\">\n",
       "  <thead>\n",
       "    <tr style=\"text-align: right;\">\n",
       "      <th></th>\n",
       "      <th>mask</th>\n",
       "      <th>address</th>\n",
       "      <th>number</th>\n",
       "    </tr>\n",
       "  </thead>\n",
       "  <tbody>\n",
       "    <tr>\n",
       "      <th>0</th>\n",
       "      <td>1X11X010X000X0X101X00100011X10100111</td>\n",
       "      <td>40278</td>\n",
       "      <td>36774405</td>\n",
       "    </tr>\n",
       "    <tr>\n",
       "      <th>1</th>\n",
       "      <td>1X11X010X000X0X101X00100011X10100111</td>\n",
       "      <td>51306</td>\n",
       "      <td>55175378</td>\n",
       "    </tr>\n",
       "    <tr>\n",
       "      <th>2</th>\n",
       "      <td>1X11X010X000X0X101X00100011X10100111</td>\n",
       "      <td>31036</td>\n",
       "      <td>805355</td>\n",
       "    </tr>\n",
       "    <tr>\n",
       "      <th>3</th>\n",
       "      <td>1X11X010X000X0X101X00100011X10100111</td>\n",
       "      <td>8433</td>\n",
       "      <td>48148</td>\n",
       "    </tr>\n",
       "    <tr>\n",
       "      <th>4</th>\n",
       "      <td>1X11X010X000X0X101X00100011X10100111</td>\n",
       "      <td>58481</td>\n",
       "      <td>45466</td>\n",
       "    </tr>\n",
       "  </tbody>\n",
       "</table>\n",
       "</div>"
      ],
      "text/plain": [
       "                                   mask  address    number\n",
       "0  1X11X010X000X0X101X00100011X10100111    40278  36774405\n",
       "1  1X11X010X000X0X101X00100011X10100111    51306  55175378\n",
       "2  1X11X010X000X0X101X00100011X10100111    31036    805355\n",
       "3  1X11X010X000X0X101X00100011X10100111     8433     48148\n",
       "4  1X11X010X000X0X101X00100011X10100111    58481     45466"
      ]
     },
     "execution_count": 2,
     "metadata": {},
     "output_type": "execute_result"
    }
   ],
   "source": [
    "fileName='input.txt'\n",
    "dockingList = []\n",
    "\n",
    "with open(fileName) as openFileObject:\n",
    "    for line in openFileObject:\n",
    "        header, argument = line.rstrip().split(sep=' = ')\n",
    "        if header == 'mask':\n",
    "            mask = argument\n",
    "        else:\n",
    "            address = re.split('\\[|\\]', header)[1]\n",
    "            dockingList.append([mask, int(address), int(argument)])\n",
    "\n",
    "dockingData = pd.DataFrame(dockingList, columns=['mask','address', 'number'])\n",
    "dockingData.head()"
   ]
  },
  {
   "cell_type": "markdown",
   "metadata": {},
   "source": [
    "## PART 1"
   ]
  },
  {
   "cell_type": "code",
   "execution_count": 3,
   "metadata": {},
   "outputs": [],
   "source": [
    "def ConvertToBinary(number):\n",
    "    binary = str(\"{0:b}\".format(number))\n",
    "    if len(binary) > 36:\n",
    "        print(\"ERROR: number\", number,\"requires more than 36 bits to store as binary.\")\n",
    "    \n",
    "    binary = binary.zfill(36)\n",
    "    return binary\n",
    "\n",
    "def ApplyMask(number, mask):\n",
    "    newNumber = ''\n",
    "    \n",
    "    for i in range(36):\n",
    "        if mask[i] != 'X':\n",
    "            newNumber = newNumber + str(mask[i])\n",
    "        else:\n",
    "            newNumber = newNumber + str(number[i])\n",
    "    \n",
    "    return newNumber"
   ]
  },
  {
   "cell_type": "code",
   "execution_count": 4,
   "metadata": {},
   "outputs": [
    {
     "name": "stdout",
     "output_type": "stream",
     "text": [
      "The sum of all values stored in memory is 16003257187056 .\n"
     ]
    }
   ],
   "source": [
    "memory = {}\n",
    "\n",
    "for i in dockingData.index.values:\n",
    "    mask = dockingData.loc[i, 'mask']\n",
    "    address = dockingData.loc[i, 'address']\n",
    "    number = dockingData.loc[i, 'number']\n",
    "    \n",
    "    memory[address] = int(ApplyMask(ConvertToBinary(number),mask),2)\n",
    "\n",
    "print(\"The sum of all values stored in memory is\", sum(memory.values()),\".\")"
   ]
  },
  {
   "cell_type": "markdown",
   "metadata": {},
   "source": [
    "## PART 2"
   ]
  },
  {
   "cell_type": "code",
   "execution_count": 5,
   "metadata": {},
   "outputs": [],
   "source": [
    "def ApplyMaskGVersion2(number, mask):\n",
    "    newNumber = ''\n",
    "    \n",
    "    for i in range(36):\n",
    "        if mask[i] == '0':\n",
    "            newNumber = newNumber + str(number[i])\n",
    "        elif mask[i] == '1':\n",
    "            newNumber = newNumber + '1'\n",
    "        elif mask[i] == 'X':\n",
    "            newNumber = newNumber + 'X'\n",
    "        else:\n",
    "            print(\"Why is there a\", mask[i], \"in my mask?\")\n",
    "            \n",
    "    \n",
    "    return newNumber\n",
    "\n",
    "def FillFloatingBits(binaryString):\n",
    "    ## This base also takes care of the case in which binaryString is empty\n",
    "    indexOfFirstX = binaryString.find('X')\n",
    "    if indexOfFirstX == -1:\n",
    "        return [binaryString]\n",
    "    \n",
    "    leftOfX = binaryString[0:indexOfFirstX]\n",
    "    rightOfX = binaryString[indexOfFirstX+1:len(binaryString)]\n",
    "    \n",
    "    filledStrings = []\n",
    "    \n",
    "    for filledRightOfX in FillFloatingBits(rightOfX):\n",
    "        filledStrings.append(leftOfX + '0' + filledRightOfX)\n",
    "        filledStrings.append(leftOfX + '1' + filledRightOfX)\n",
    "        \n",
    "    return filledStrings"
   ]
  },
  {
   "cell_type": "code",
   "execution_count": 6,
   "metadata": {},
   "outputs": [
    {
     "name": "stdout",
     "output_type": "stream",
     "text": [
      "The (new) sum of all values stored in memory is 3219837697833 .\n"
     ]
    }
   ],
   "source": [
    "memoryVersion2 = {}\n",
    "\n",
    "for i in dockingData.index.values:\n",
    "    mask = dockingData.loc[i, 'mask']\n",
    "    address = dockingData.loc[i, 'address']\n",
    "    number = dockingData.loc[i, 'number']\n",
    "    \n",
    "    maskedAddress = ApplyMaskGVersion2(ConvertToBinary(address), mask)\n",
    "    newAddressBinaryList = FillFloatingBits(maskedAddress)\n",
    "    \n",
    "    for newAddressBinary in newAddressBinaryList:\n",
    "        memoryVersion2[int(newAddressBinary,2)] = number\n",
    "\n",
    "print(\"The (new) sum of all values stored in memory is\", sum(memoryVersion2.values()),\".\")"
   ]
  },
  {
   "cell_type": "code",
   "execution_count": null,
   "metadata": {},
   "outputs": [],
   "source": []
  }
 ],
 "metadata": {
  "kernelspec": {
   "display_name": "Python 3",
   "language": "python",
   "name": "python3"
  },
  "language_info": {
   "codemirror_mode": {
    "name": "ipython",
    "version": 3
   },
   "file_extension": ".py",
   "mimetype": "text/x-python",
   "name": "python",
   "nbconvert_exporter": "python",
   "pygments_lexer": "ipython3",
   "version": "3.8.5"
  }
 },
 "nbformat": 4,
 "nbformat_minor": 4
}
