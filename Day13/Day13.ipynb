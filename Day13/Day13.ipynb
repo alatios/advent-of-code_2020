{
 "cells": [
  {
   "cell_type": "code",
   "execution_count": 1,
   "metadata": {},
   "outputs": [],
   "source": [
    "import numpy as np\n",
    "import pandas as pd"
   ]
  },
  {
   "cell_type": "markdown",
   "metadata": {},
   "source": [
    "## READ THE DATA"
   ]
  },
  {
   "cell_type": "code",
   "execution_count": 2,
   "metadata": {},
   "outputs": [],
   "source": [
    "fileName = 'input.txt'\n",
    "with open(fileName) as openFile:\n",
    "    fileList = list(openFile)\n",
    "\n",
    "earliestDeparture = int(fileList[0])\n",
    "listOfBuses = [int(num) if num.isdigit() else num for num in fileList[1].rstrip().split(',')]\n",
    "listOfBusesWithoutX = [num for num in listOfBuses if str(num).isdigit()]"
   ]
  },
  {
   "cell_type": "markdown",
   "metadata": {},
   "source": [
    "## PART 1"
   ]
  },
  {
   "cell_type": "code",
   "execution_count": 3,
   "metadata": {},
   "outputs": [
    {
     "name": "stdout",
     "output_type": "stream",
     "text": [
      "Earliest bus: 17\n",
      "Minutes to wait: 9\n",
      "Answer: 153\n"
     ]
    }
   ],
   "source": [
    "increment = 0\n",
    "foundBus = False\n",
    "\n",
    "while True:\n",
    "    for bus in listOfBusesWithoutX:\n",
    "        if ((earliestDeparture+increment) % bus == 0):\n",
    "            foundBus = True\n",
    "            earliestBusAvailable = bus\n",
    "            break \n",
    "    \n",
    "    if foundBus:\n",
    "        break\n",
    "    increment += 1\n",
    "\n",
    "print(\"Earliest bus:\", earliestBusAvailable)\n",
    "print(\"Minutes to wait:\", increment)\n",
    "print(\"Answer:\", earliestBusAvailable*increment)"
   ]
  },
  {
   "cell_type": "markdown",
   "metadata": {},
   "source": [
    "## PART 2\n",
    "This is easier solved through the use of the [Chinese remainder theorem](https://en.wikipedia.org/wiki/Chinese_remainder_theorem). First we check if our bus IDs are all coprime."
   ]
  },
  {
   "cell_type": "code",
   "execution_count": 4,
   "metadata": {},
   "outputs": [],
   "source": [
    "def GreatestCommonDivisor(p,q):\n",
    "    while q != 0:\n",
    "        p, q = q, p%q\n",
    "    return p\n",
    "\n",
    "def IsCoprime(x, y):\n",
    "    return GreatestCommonDivisor(x, y) == 1"
   ]
  },
  {
   "cell_type": "code",
   "execution_count": 5,
   "metadata": {},
   "outputs": [
    {
     "name": "stdout",
     "output_type": "stream",
     "text": [
      "Great! All bus IDs are coprime!\n"
     ]
    }
   ],
   "source": [
    "coprime = True\n",
    "\n",
    "for i in range(len(listOfBusesWithoutX)):\n",
    "    for j in range(i+1,len(listOfBusesWithoutX)):\n",
    "            coprime *= IsCoprime(int(listOfBusesWithoutX[i]), int(listOfBusesWithoutX[j]))\n",
    "            if not coprime:\n",
    "                print(\"ERROR: IDs\", listOfBusesWithoutX[i], \"and\", listOfBusesWithoutX[j], \"are not coprime.\")\n",
    "\n",
    "if coprime:\n",
    "    print(\"Great! All bus IDs are coprime!\")"
   ]
  },
  {
   "cell_type": "markdown",
   "metadata": {},
   "source": [
    "The Chinese remainder theorem tells us that a system of congruences in the form\n",
    "\n",
    "\\begin{equation}\n",
    "x\\, \\text{mod}\\, n_i = b_i\n",
    "\\end{equation}\n",
    "\n",
    "has a single solution up to modulus $N := \\prod_{i}n_i$. Said solution takes the form\n",
    "\n",
    "\\begin{equation}\n",
    "x\\, \\text{mod}\\, N = \\sum_{i=1}^m b_i N_i x_i\n",
    "\\end{equation}\n",
    "\n",
    "where $N_i := \\frac{N}{n_i}$ and $x_i$ is the solution of\n",
    "\n",
    "\\begin{equation}\n",
    "(N_i x_i) \\, \\text{mod}\\, n_i = 1\n",
    "\\end{equation}\n",
    "\n",
    "In our case, $x$ is the timestamp we're looking for; since every bus bar the first departs with a $k_i$ minute offset, most of our congruences will actually be in the form\n",
    "\n",
    "\\begin{equation}\n",
    "(x+k_i)\\, \\text{mod}\\, n_i = 0\n",
    "\\end{equation}\n",
    "\n",
    "Thankfully, it can easily be shown that the above equation is equivalent to\n",
    "\n",
    "\\begin{equation}\n",
    "x\\, \\text{mod}\\, n_i = (n_i-k_i)\\, \\text{mod}\\, n_i\n",
    "\\end{equation}"
   ]
  },
  {
   "cell_type": "code",
   "execution_count": 6,
   "metadata": {},
   "outputs": [],
   "source": [
    "niArray = np.array(listOfBusesWithoutX, dtype='uint64')\n",
    "N = np.prod(niArray, dtype='uint64')\n",
    "NiArray = np.array([int(N/ni) for ni in niArray], dtype='uint64')"
   ]
  },
  {
   "cell_type": "code",
   "execution_count": 7,
   "metadata": {},
   "outputs": [],
   "source": [
    "xiList = []\n",
    "for i in range(len(niArray)):\n",
    "    xi = 0\n",
    "    while (NiArray[i] * xi) % niArray[i] != 1:\n",
    "        xi += 1\n",
    "    xiList.append(xi)\n",
    "\n",
    "xiArray = np.array(xiList, dtype='uint64')"
   ]
  },
  {
   "cell_type": "code",
   "execution_count": 8,
   "metadata": {},
   "outputs": [],
   "source": [
    "nikiDictionary = {}\n",
    "for i in range(len(listOfBuses)):\n",
    "    if listOfBuses[i] != 'x':\n",
    "        nikiDictionary[listOfBuses[i]] = i"
   ]
  },
  {
   "cell_type": "code",
   "execution_count": 9,
   "metadata": {},
   "outputs": [],
   "source": [
    "biArray = np.array([ni - nikiDictionary[ni] for ni in niArray], dtype='uint64')"
   ]
  },
  {
   "cell_type": "code",
   "execution_count": 10,
   "metadata": {},
   "outputs": [],
   "source": [
    "def CheckTimestampCondition(minuteDictionary, timestamp):\n",
    "    for bus in minuteDictionary:\n",
    "        if (timestamp+minuteDictionary[bus]) % bus != 0:\n",
    "            return False \n",
    "    return True"
   ]
  },
  {
   "cell_type": "code",
   "execution_count": 11,
   "metadata": {},
   "outputs": [
    {
     "name": "stdout",
     "output_type": "stream",
     "text": [
      "The unique solution is: 471793476184394\n",
      "Does it satisfy the requirements? True\n"
     ]
    }
   ],
   "source": [
    "solution = (np.sum(biArray*NiArray*xiArray)) % N\n",
    "print(\"The unique solution is:\", solution)\n",
    "print(\"Does it satisfy the requirements?\", CheckTimestampCondition(nikiDictionary, solution))"
   ]
  }
 ],
 "metadata": {
  "kernelspec": {
   "display_name": "Python 3",
   "language": "python",
   "name": "python3"
  },
  "language_info": {
   "codemirror_mode": {
    "name": "ipython",
    "version": 3
   },
   "file_extension": ".py",
   "mimetype": "text/x-python",
   "name": "python",
   "nbconvert_exporter": "python",
   "pygments_lexer": "ipython3",
   "version": "3.8.5"
  }
 },
 "nbformat": 4,
 "nbformat_minor": 4
}
