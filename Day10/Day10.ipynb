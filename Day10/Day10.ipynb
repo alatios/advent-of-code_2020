{
 "cells": [
  {
   "cell_type": "code",
   "execution_count": 1,
   "metadata": {},
   "outputs": [],
   "source": [
    "import numpy as np"
   ]
  },
  {
   "cell_type": "markdown",
   "metadata": {},
   "source": [
    "## READ THE DATA"
   ]
  },
  {
   "cell_type": "code",
   "execution_count": 2,
   "metadata": {},
   "outputs": [
    {
     "data": {
      "text/plain": [
       "array([  0,   1,   2,   3,   6,   9,  12,  13,  14,  15,  18,  19,  22,\n",
       "        23,  26,  27,  28,  29,  32,  35,  36,  37,  40,  43,  46,  47,\n",
       "        48,  49,  50,  53,  56,  57,  58,  59,  60,  63,  64,  65,  66,\n",
       "        67,  70,  71,  72,  73,  74,  77,  78,  79,  80,  83,  86,  87,\n",
       "        88,  89,  90,  93,  94,  95,  96,  97, 100, 103, 104, 105, 106,\n",
       "       107, 110, 113, 114, 115, 118, 119, 122, 125, 128, 129, 130, 133,\n",
       "       134, 135, 136, 139, 142, 143, 144, 145, 146, 149, 150, 151, 152,\n",
       "       153, 156, 159, 162, 163, 166, 169, 170, 171, 172, 175, 178, 179,\n",
       "       180, 183])"
      ]
     },
     "execution_count": 2,
     "metadata": {},
     "output_type": "execute_result"
    }
   ],
   "source": [
    "filename='input.txt'\n",
    "adapters = np.loadtxt(filename, dtype=int)\n",
    "adapters = np.append(adapters, [0, np.max(adapters) + 3])\n",
    "adapters.sort()\n",
    "adapters"
   ]
  },
  {
   "cell_type": "markdown",
   "metadata": {},
   "source": [
    "## PART 1"
   ]
  },
  {
   "cell_type": "code",
   "execution_count": 3,
   "metadata": {
    "scrolled": true
   },
   "outputs": [
    {
     "name": "stdout",
     "output_type": "stream",
     "text": [
      "No. of 1-jolt differences: 66\n",
      "No. of 2-jolt differences: 0\n",
      "No. of 3-jolt differences: 39\n",
      "\n",
      "\n",
      "No. of 1-jolt differences by 3-jolt differences: 2574\n"
     ]
    }
   ],
   "source": [
    "oneJolt = 0\n",
    "twoJolts = 0\n",
    "threeJolts = 0\n",
    "\n",
    "for i in range(1, len(adapters)):\n",
    "    diff = adapters[i] - adapters[i-1]\n",
    "    if diff == 1:\n",
    "        oneJolt += 1\n",
    "    elif diff == 2:\n",
    "        twoJolts += 1\n",
    "    elif diff == 3:\n",
    "        threeJolts += 1\n",
    "    else:\n",
    "        print(\"The difference between\", adapters[i], \"and\", adapters[i-1], \"is\", diff, \", which is not coded as a valid option.\")\n",
    "\n",
    "print(\"No. of 1-jolt differences:\", oneJolt)\n",
    "print(\"No. of 2-jolt differences:\", twoJolts)\n",
    "print(\"No. of 3-jolt differences:\", threeJolts)\n",
    "print('\\n')\n",
    "print(\"No. of 1-jolt differences by 3-jolt differences:\", oneJolt * threeJolts)"
   ]
  },
  {
   "cell_type": "markdown",
   "metadata": {},
   "source": [
    "## PART 2\n",
    "\n",
    "Brace yourselves, we're going in [adjacency matrix](https://en.wikipedia.org/wiki/Adjacency_matrix) style."
   ]
  },
  {
   "cell_type": "code",
   "execution_count": 4,
   "metadata": {},
   "outputs": [
    {
     "data": {
      "text/plain": [
       "array([[0, 1, 1, ..., 0, 0, 0],\n",
       "       [0, 0, 1, ..., 0, 0, 0],\n",
       "       [0, 0, 0, ..., 0, 0, 0],\n",
       "       ...,\n",
       "       [0, 0, 0, ..., 0, 1, 0],\n",
       "       [0, 0, 0, ..., 0, 0, 1],\n",
       "       [0, 0, 0, ..., 0, 0, 0]], dtype=uint64)"
      ]
     },
     "execution_count": 4,
     "metadata": {},
     "output_type": "execute_result"
    }
   ],
   "source": [
    "adjMatrix = []\n",
    "\n",
    "for i in adapters:\n",
    "    adjMatrix.append(list(np.where(np.logical_and(adapters - i > 0, adapters - i <= 3), 1, 0)))\n",
    "\n",
    "## Uint64 because it's SO DAMN BIG\n",
    "adjMatrix = np.array(adjMatrix, dtype='uint64')\n",
    "adjMatrix"
   ]
  },
  {
   "cell_type": "code",
   "execution_count": 5,
   "metadata": {},
   "outputs": [
    {
     "data": {
      "text/plain": [
       "2644613988352"
      ]
     },
     "execution_count": 5,
     "metadata": {},
     "output_type": "execute_result"
    }
   ],
   "source": [
    "K = adjMatrix\n",
    "totK = np.zeros((len(adapters),len(adapters)), dtype='uint64')\n",
    "\n",
    "for i in range(len(adapters)):\n",
    "    K = np.matmul(K,adjMatrix)\n",
    "    totK += K\n",
    "\n",
    "totK[0,len(adapters)-1]"
   ]
  },
  {
   "cell_type": "code",
   "execution_count": null,
   "metadata": {},
   "outputs": [],
   "source": []
  }
 ],
 "metadata": {
  "kernelspec": {
   "display_name": "Python 3",
   "language": "python",
   "name": "python3"
  },
  "language_info": {
   "codemirror_mode": {
    "name": "ipython",
    "version": 3
   },
   "file_extension": ".py",
   "mimetype": "text/x-python",
   "name": "python",
   "nbconvert_exporter": "python",
   "pygments_lexer": "ipython3",
   "version": "3.8.5"
  }
 },
 "nbformat": 4,
 "nbformat_minor": 4
}
