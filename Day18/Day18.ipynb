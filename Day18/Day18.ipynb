{
 "cells": [
  {
   "cell_type": "markdown",
   "metadata": {},
   "source": [
    "## READ THE DATA"
   ]
  },
  {
   "cell_type": "code",
   "execution_count": 1,
   "metadata": {},
   "outputs": [],
   "source": [
    "def ExpressionStringToList(expressionString):\n",
    "    return [char for char in expressionString if char != ' ']\n",
    "\n",
    "def ExpressionListToString(expressionList):\n",
    "    return ' '.join(expressionList)"
   ]
  },
  {
   "cell_type": "code",
   "execution_count": 2,
   "metadata": {},
   "outputs": [
    {
     "name": "stdout",
     "output_type": "stream",
     "text": [
      "Number of expressions to process: 370\n"
     ]
    }
   ],
   "source": [
    "fileName = 'input.txt'\n",
    "\n",
    "with open(fileName) as openFile:\n",
    "    expressionList = [ExpressionStringToList(line.rstrip()) for line in openFile]\n",
    "\n",
    "print(\"Number of expressions to process:\", len(expressionList))"
   ]
  },
  {
   "cell_type": "markdown",
   "metadata": {},
   "source": [
    "## PART 1"
   ]
  },
  {
   "cell_type": "code",
   "execution_count": 3,
   "metadata": {},
   "outputs": [],
   "source": [
    "## Find index of the right parenthesis that closes the selected left one\n",
    "def RightParenthesisIndex(expr, leftParenthesisIndex):\n",
    "    if expr[leftParenthesisIndex] != '(':\n",
    "        print(\"ERROR: it seems you thought\", expr[leftParenthesisIndex], 'was a left parenthesis in expression', ExpressionListToString(expr), \".\")\n",
    "        return -1\n",
    "    \n",
    "    parenthesisCount = 1\n",
    "    currentIndex = leftParenthesisIndex\n",
    "    \n",
    "    while parenthesisCount != 0:\n",
    "        currentIndex += 1\n",
    "        if expr[currentIndex] == '(':\n",
    "            parenthesisCount += 1\n",
    "        elif expr[currentIndex] == ')':\n",
    "            parenthesisCount -= 1\n",
    "    \n",
    "    return currentIndex\n",
    "\n",
    "## Vice versa\n",
    "def LeftParenthesisIndex(expr, rightParenthesisIndex):\n",
    "    if expr[rightParenthesisIndex] != ')':\n",
    "        print(\"ERROR: it seems you thought\", expr[rightParenthesisIndex], 'was a right parenthesis in expression', ExpressionListToString(expr), \".\")\n",
    "        return -1\n",
    "    \n",
    "    parenthesisCount = 1\n",
    "    currentIndex = rightParenthesisIndex\n",
    "    \n",
    "    while parenthesisCount != 0:\n",
    "        currentIndex -= 1\n",
    "        if expr[currentIndex] == ')':\n",
    "            parenthesisCount += 1\n",
    "        elif expr[currentIndex] == '(':\n",
    "            parenthesisCount -= 1\n",
    "    \n",
    "    return currentIndex"
   ]
  },
  {
   "cell_type": "code",
   "execution_count": 4,
   "metadata": {},
   "outputs": [],
   "source": [
    "def ProcessLongformExpression(expr):\n",
    "    total = 0\n",
    "    operator = '+'\n",
    "    skipUntil = -1\n",
    "    \n",
    "    for index, element in enumerate(expr):\n",
    "        if index < skipUntil:\n",
    "            continue\n",
    "        \n",
    "        if element.isdigit():\n",
    "            element = int(element)\n",
    "            total = OperateOnTotal(total, operator, element)\n",
    "        elif element in ['+', '*']:\n",
    "            operator = element\n",
    "        elif element == '(':\n",
    "            indexOfMatchingRightParenthesis = RightParenthesisIndex(expr, index)\n",
    "            totalOfParenthesis = ProcessLongformExpression(expr[index+1:indexOfMatchingRightParenthesis])\n",
    "            total = OperateOnTotal(total, operator, totalOfParenthesis)\n",
    "            skipUntil = indexOfMatchingRightParenthesis + 1\n",
    "        else:\n",
    "            print(\"ERROR: element\", element, \"in expression\", ExpressionListToString(expr), \"not recognized.\")\n",
    "            return -1\n",
    "    \n",
    "    return total"
   ]
  },
  {
   "cell_type": "code",
   "execution_count": 5,
   "metadata": {},
   "outputs": [],
   "source": [
    "def OperateOnTotal(total, operator, value):\n",
    "    value = int(value)\n",
    "    if operator == '+':\n",
    "        total += value\n",
    "    elif operator == '*':\n",
    "        total *= value\n",
    "    else:\n",
    "        print(\"ERROR: operator\", operator, \"not recognized.\")\n",
    "        total = -1\n",
    "    \n",
    "    return total"
   ]
  },
  {
   "cell_type": "code",
   "execution_count": 6,
   "metadata": {},
   "outputs": [
    {
     "name": "stdout",
     "output_type": "stream",
     "text": [
      "Sum total of all results: 18213007238947\n"
     ]
    }
   ],
   "source": [
    "expressionTotal = 0\n",
    "\n",
    "for expression in expressionList:\n",
    "    expressionTotal += ProcessLongformExpression(expression)\n",
    "\n",
    "print(\"Sum total of all results:\", expressionTotal)"
   ]
  },
  {
   "cell_type": "markdown",
   "metadata": {},
   "source": [
    "## PART 2"
   ]
  },
  {
   "cell_type": "code",
   "execution_count": 7,
   "metadata": {},
   "outputs": [],
   "source": [
    "## The easiest (well, less laborious) way to implement the inverse PEMDAS order  with the code we've already written\n",
    "## is to first prune the sums, then process the expression as before\n",
    "def ProcessAdvancedExpression(expr):\n",
    "    while True:\n",
    "        ## When all sums have been purged, the previous algorithm will work just fine\n",
    "        nextSumIndex = next((index for index, element in enumerate(expr) if element == '+'), -1)\n",
    "        if nextSumIndex == -1:\n",
    "            return ProcessLongformExpression(expr)\n",
    "        \n",
    "        ## If we encounter a + and it's numbers left and right... Well, it's a sum\n",
    "        if (expr[nextSumIndex-1].isdigit() and expr[nextSumIndex+1].isdigit()):\n",
    "            summation = int(expr[nextSumIndex-1]) + int(expr[nextSumIndex+1])\n",
    "            expr = expr[:nextSumIndex-1] + [str(summation)] + expr[nextSumIndex+2:]\n",
    "        ## Here we consider the case (expr1) + (expr2)\n",
    "        ## Note we process the right term first, so as not to fuck up indexing on the left side\n",
    "        else:\n",
    "            if expr[nextSumIndex+1] == '(':\n",
    "                indexOfMatchingRightParenthesis = RightParenthesisIndex(expr, nextSumIndex+1)\n",
    "                rightSummation = ProcessAdvancedExpression(expr[nextSumIndex+1:indexOfMatchingRightParenthesis+1])\n",
    "                expr = expr[:nextSumIndex+1] + [str(rightSummation)] + expr[indexOfMatchingRightParenthesis+1:]\n",
    "            if expr[nextSumIndex-1] == ')':\n",
    "                indexOfMatchingLeftParenthesis = LeftParenthesisIndex(expr, nextSumIndex-1)\n",
    "                leftSummation = ProcessAdvancedExpression(expr[indexOfMatchingLeftParenthesis:nextSumIndex])\n",
    "                expr = expr[:indexOfMatchingLeftParenthesis] + [str(leftSummation)] + expr[nextSumIndex:]"
   ]
  },
  {
   "cell_type": "code",
   "execution_count": 8,
   "metadata": {},
   "outputs": [
    {
     "name": "stdout",
     "output_type": "stream",
     "text": [
      "Sum total of all results with advanced math: 388966573054664\n"
     ]
    }
   ],
   "source": [
    "advancedExpressionTotal = 0\n",
    "\n",
    "for expression in expressionList:\n",
    "    advancedExpressionTotal += ProcessAdvancedExpression(expression)\n",
    "\n",
    "print(\"Sum total of all results with advanced math:\", advancedExpressionTotal)"
   ]
  }
 ],
 "metadata": {
  "kernelspec": {
   "display_name": "Python 3",
   "language": "python",
   "name": "python3"
  },
  "language_info": {
   "codemirror_mode": {
    "name": "ipython",
    "version": 3
   },
   "file_extension": ".py",
   "mimetype": "text/x-python",
   "name": "python",
   "nbconvert_exporter": "python",
   "pygments_lexer": "ipython3",
   "version": "3.8.5"
  }
 },
 "nbformat": 4,
 "nbformat_minor": 4
}
